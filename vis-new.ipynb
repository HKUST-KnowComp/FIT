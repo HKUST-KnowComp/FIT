{
 "cells": [
  {
   "cell_type": "code",
   "execution_count": 1,
   "metadata": {},
   "outputs": [
    {
     "name": "stderr",
     "output_type": "stream",
     "text": [
      "/opt/conda/lib/python3.8/site-packages/tqdm/auto.py:22: TqdmWarning: IProgress not found. Please update jupyter and ipywidgets. See https://ipywidgets.readthedocs.io/en/stable/user_install.html\n",
      "  from .autonotebook import tqdm as notebook_tqdm\n"
     ]
    }
   ],
   "source": [
    "from collections import defaultdict\n",
    "import os\n",
    "import pandas as pd\n",
    "pd.options.display.float_format = '{:>5.2f}'.format\n",
    "import numpy as np\n",
    "\n",
    "import matplotlib.pyplot as plt\n",
    "import json\n",
    "from pprint import pprint\n",
    "\n",
    "from scipy.ndimage.filters import gaussian_filter1d\n",
    "from lifted_embedding_estimation_with_truth_value import name2lstr"
   ]
  },
  {
   "cell_type": "code",
   "execution_count": 2,
   "metadata": {},
   "outputs": [],
   "source": [
    "metrics = ['mrr', 'hit1', 'hit3', 'hit10']\n",
    "\n",
    "Conjunction_queries = ['1p', '2p', '3p', '2i', '3i', 'pi', 'ip']\n",
    "Negation_queries = ['2in', '3in', 'inp', 'pin', 'pni']\n",
    "Disjunction_queries = ['2u', 'up']\n",
    "queries = Conjunction_queries + Disjunction_queries + Negation_queries\n",
    "\n",
    "filter_width = .1"
   ]
  },
  {
   "cell_type": "code",
   "execution_count": 3,
   "metadata": {},
   "outputs": [],
   "source": [
    "def read_log_lines(filename):\n",
    "    lines = []\n",
    "    with open(filename, 'rt') as f:\n",
    "        for line in f.readlines():\n",
    "            lines.append(line)\n",
    "    return lines\n",
    "\n",
    "def filter_lines(lines, key_str):\n",
    "    rec = []\n",
    "    for line in lines:\n",
    "        if not key_str in line:\n",
    "            continue\n",
    "        json_content = json.loads(line.split(']')[-1])\n",
    "        try:\n",
    "            rec.append(\n",
    "                json_content\n",
    "            )\n",
    "        except:\n",
    "            print(\"Error in \", line)\n",
    "    return rec "
   ]
  },
  {
   "cell_type": "code",
   "execution_count": 4,
   "metadata": {},
   "outputs": [],
   "source": [
    "def plot_train_lines(lines, lstr=None):\n",
    "    rec = filter_lines(lines=lines, key_str=\"train lifted\")\n",
    "    if not rec:\n",
    "        return\n",
    "    data = defaultdict(list)\n",
    "    for i, this_record in enumerate(rec):\n",
    "        for k in this_record:\n",
    "            data[k].append(this_record[k])\n",
    "        data['id'].append(i)\n",
    "    df = pd.DataFrame(data)\n",
    "    \n",
    "    if lstr:\n",
    "        df = df[df.lstr == lstr]\n",
    "        \n",
    "    if len(df) > 50000:\n",
    "        df = df.sample(n=50000)\n",
    "\n",
    "    fig, (ax1, ax2) = plt.subplots(ncols=2, figsize=(15, 6))\n",
    "\n",
    "    ax1.set_xlabel('steps')\n",
    "    ax1.set_ylabel('loss')\n",
    "    keys = ['loss']\n",
    "    for label in keys:\n",
    "        if label in df:\n",
    "            # ax2.plot(df['id'], df[label], alpha=0.5, label=label)\n",
    "            ax1.scatter(df['id'], df[label], s=1, label=label)\n",
    "            \n",
    "    ax1.legend()\n",
    "    ax1.set_yscale('log')\n",
    "    \n",
    "    keys = ['contrastive_pos_score', 'contrastive_neg_score']\n",
    "    for label in keys:\n",
    "        if label in df:\n",
    "            # ax3.plot(df['id'], df[label], alpha=0.5, label=label)\n",
    "            ax2.scatter(df['id'], df[label], s=1, label=label)\n",
    "            \n",
    "    ax2.legend()\n",
    "    # ax3.set_ylim([0, 1])\n",
    "\n",
    "    ax2.set_yscale('log')\n",
    "    # ax2.set_yticks([1e-2, 1e-1, 1])\n",
    "    fig.tight_layout()  # otherwise the right y-label is slightly clipped\n",
    "    plt.show()"
   ]
  },
  {
   "cell_type": "code",
   "execution_count": 5,
   "metadata": {},
   "outputs": [],
   "source": [
    "def evaluation_to_tables(line, collect_metrics=metrics, verbose=True):\n",
    "    data = defaultdict(list)\n",
    "    for m in collect_metrics:\n",
    "        data['metric'].append(m)\n",
    "        for k in queries:\n",
    "            if k in line:\n",
    "                data[k].append(line[k][m] * 100)\n",
    "        data['epoch'] = line['epoch']\n",
    "    df = pd.DataFrame(data)\n",
    "    try:\n",
    "        df['epfo mean'] = df[Conjunction_queries + Disjunction_queries].mean(axis=1)\n",
    "    except:\n",
    "        pass\n",
    "    try:\n",
    "        df['Neg mean'] = df[Negation_queries].mean(axis=1)\n",
    "    except:\n",
    "        pass\n",
    "    return df\n",
    "\n",
    "def aggregate_evaluations(lines, key_str, collect_metrics=metrics, out_dir=\"unnamed\"):\n",
    "    print(key_str)\n",
    "    rec_lines = filter_lines(lines, key_str)\n",
    "    df_list = []\n",
    "    for e, line in enumerate(rec_lines):\n",
    "        df = evaluation_to_tables(line, collect_metrics)\n",
    "        # print(df.to_markdown(floatfmt=\".2f\"))\n",
    "#         df['epoch'] = (e+1) * 5\n",
    "        df_list.append(df)\n",
    "    if len(df_list) == 0:\n",
    "        return\n",
    "    final_df = pd.concat(df_list)\n",
    "    final_df = final_df.set_index(['epoch', 'metric'])\n",
    "    print(final_df.tail().to_string(col_space=5))\n",
    "    path = os.path.join(\"results\", out_dir, key_str + \".csv\")\n",
    "    os.makedirs(os.path.dirname(path), exist_ok=True)\n",
    "    final_df.to_csv(path)"
   ]
  },
  {
   "cell_type": "code",
   "execution_count": 6,
   "metadata": {},
   "outputs": [],
   "source": [
    "def show_trajectory(filename, metrics=['mrr']):\n",
    "    out_dir = os.path.dirname(filename)\n",
    "    lines = read_log_lines(filename)\n",
    "#     plot_train_lines(lines)\n",
    "    aggregate_evaluations(lines, 'CQD evaluate valid', collect_metrics=metrics, out_dir=out_dir)\n",
    "    aggregate_evaluations(lines, 'CQD evaluate test', collect_metrics=metrics, out_dir=out_dir)\n",
    "    \n",
    "    aggregate_evaluations(lines, 'tv evaluate valid', collect_metrics=metrics, out_dir=out_dir)\n",
    "    aggregate_evaluations(lines, 'tv evaluate test', collect_metrics=metrics, out_dir=out_dir)\n",
    "\n",
    "    aggregate_evaluations(lines, 'NN evaluate valid', collect_metrics=metrics, out_dir=out_dir)\n",
    "    aggregate_evaluations(lines, 'NN evaluate test', collect_metrics=metrics, out_dir=out_dir)\n",
    "    # plot_evaluation(lines)"
   ]
  },
  {
   "cell_type": "markdown",
   "metadata": {},
   "source": [
    "# CQD"
   ]
  },
  {
   "cell_type": "code",
   "execution_count": 7,
   "metadata": {},
   "outputs": [
    {
     "name": "stdout",
     "output_type": "stream",
     "text": [
      "CQD evaluate valid\n",
      "                1p    2p    3p    2i    3i    pi    ip    2u    up   2in   3in   inp   pin   pni  epfo mean  Neg mean\n",
      "epoch metric                                                                                                         \n",
      "-1    mrr    44.74  8.61  5.69 19.88 28.23 19.82 13.01 11.28  7.30  0.09  0.13  1.87  0.09  4.35      17.62      1.31\n",
      "CQD evaluate test\n",
      "                1p    2p    3p    2i    3i    pi    ip    2u    up   2in   3in   inp   pin   pni  epfo mean  Neg mean\n",
      "epoch metric                                                                                                         \n",
      "-1    mrr    46.65 10.28  6.47 23.10 29.82 22.12 16.30 14.24  8.90  0.19  0.19  2.06  0.12  6.14      19.76      1.74\n",
      "tv evaluate valid\n",
      "tv evaluate test\n",
      "NN evaluate valid\n",
      "NN evaluate test\n",
      "CQD evaluate valid\n",
      "                1p    2p    3p    2i    3i    pi    ip    2u    up   2in   3in   inp   pin   pni  epfo mean  Neg mean\n",
      "epoch metric                                                                                                         \n",
      "-1    mrr    79.40 19.34 11.48 48.32 57.80 36.22 25.60 27.08 16.19  0.08  0.07  3.20  0.06 11.95      35.72      3.07\n",
      "CQD evaluate test\n",
      "                1p    2p    3p    2i    3i    pi    ip    2u    up   2in   3in   inp   pin   pni  epfo mean  Neg mean\n",
      "epoch metric                                                                                                         \n",
      "-1    mrr    89.42 27.62 15.12 63.00 65.49 45.97 35.15 42.92 23.22  0.17  0.15  4.02  0.14 18.41      45.32      4.58\n",
      "tv evaluate valid\n",
      "tv evaluate test\n",
      "NN evaluate valid\n",
      "NN evaluate test\n",
      "CQD evaluate valid\n",
      "                1p    2p    3p    2i    3i    pi    ip    2u    up   2in   3in   inp   pin   pni  epfo mean  Neg mean\n",
      "epoch metric                                                                                                         \n",
      "-1    mrr    59.13 17.26 13.38 33.38 44.02 28.90 23.29 15.88 11.59  0.14  0.02  3.51  0.09  5.27      27.43      1.81\n",
      "CQD evaluate test\n",
      "                1p    2p    3p    2i    3i    pi    ip    2u    up   2in   3in   inp   pin   pni  epfo mean  Neg mean\n",
      "epoch metric                                                                                                         \n",
      "-1    mrr    60.81 18.32 13.23 36.51 43.01 29.99 22.50 17.58 13.67  0.11  0.07  3.95  0.04  5.24      28.40      1.88\n",
      "tv evaluate valid\n",
      "tv evaluate test\n",
      "NN evaluate valid\n",
      "NN evaluate test\n"
     ]
    }
   ],
   "source": [
    "show_trajectory('results/cqd-FB15k-237/output.log', metrics=['mrr'])\n",
    "show_trajectory('results/cqd-FB15k/output.log', metrics=['mrr'])\n",
    "show_trajectory('results/cqd-NELL/output.log', metrics=['mrr'])"
   ]
  },
  {
   "cell_type": "markdown",
   "metadata": {},
   "source": [
    "# Visualize Effects of eps"
   ]
  },
  {
   "cell_type": "code",
   "execution_count": 8,
   "metadata": {},
   "outputs": [
    {
     "name": "stdout",
     "output_type": "stream",
     "text": [
      "CQD evaluate valid\n",
      "CQD evaluate test\n",
      "tv evaluate valid\n",
      "tv evaluate test\n",
      "NN evaluate valid\n",
      "                1p    2p    3p    2i    3i    pi    ip    2u    up   2in   3in   inp   pin   pni  epfo mean  Neg mean\n",
      "epoch metric                                                                                                         \n",
      "79    mrr    43.80 10.56  8.43 30.89 45.44  8.89 13.54 11.29  8.19  6.43  9.53  7.65  3.14  2.24      20.11      5.80\n",
      "84    mrr    43.80 10.60  8.44 30.93 45.47  8.87 13.55 11.25  8.19  6.42  9.53  7.67  3.15  2.25      20.12      5.80\n",
      "89    mrr    43.81 10.55  8.34 30.91 45.42  8.87 13.47 11.28  8.17  6.42  9.58  7.63  3.15  2.27      20.09      5.81\n",
      "94    mrr    43.82 10.60  8.45 31.03 45.42  8.85 13.52 11.25  8.16  6.42  9.56  7.64  3.16  2.31      20.12      5.82\n",
      "99    mrr    43.82 10.55  8.39 30.97 45.46  8.91 13.54 11.30  8.21  6.41  9.58  7.67  3.15  2.25      20.13      5.81\n",
      "NN evaluate test\n",
      "                1p    2p    3p    2i    3i    pi    ip    2u    up   2in   3in   inp   pin   pni  epfo mean  Neg mean\n",
      "epoch metric                                                                                                         \n",
      "79    mrr    45.54 12.55  9.79 33.56 47.12 10.98 17.04 13.98  9.95  8.83 11.54  7.29  3.49  2.70      22.28      6.77\n",
      "84    mrr    45.55 12.59  9.82 33.62 47.09 11.05 17.14 13.97  9.99  8.82 11.52  7.29  3.51  2.68      22.31      6.77\n",
      "89    mrr    45.48 12.60  9.72 33.53 47.06 11.07 17.07 14.03 10.01  8.82 11.56  7.26  3.50  2.70      22.29      6.77\n",
      "94    mrr    45.52 12.58  9.86 33.57 47.05 11.07 17.14 14.04 10.01  8.79 11.56  7.26  3.47  2.74      22.32      6.76\n",
      "99    mrr    45.51 12.55  9.73 33.63 47.07 11.07 17.14 13.99  9.96  8.78 11.55  7.27  3.47  2.71      22.30      6.76\n"
     ]
    }
   ],
   "source": [
    "# re run with hidden 4096\n",
    "show_trajectory('log/FB15k-237/lmpnn-complex1k-eps_0/output.log', metrics=['mrr'])"
   ]
  },
  {
   "cell_type": "code",
   "execution_count": 9,
   "metadata": {},
   "outputs": [
    {
     "name": "stdout",
     "output_type": "stream",
     "text": [
      "CQD evaluate valid\n",
      "CQD evaluate test\n",
      "tv evaluate valid\n",
      "tv evaluate test\n",
      "NN evaluate valid\n",
      "                1p    2p    3p    2i    3i    pi    ip    2u    up   2in   3in   inp   pin   pni  epfo mean  Neg mean\n",
      "epoch metric                                                                                                         \n",
      "79    mrr    43.90 10.53  8.38 31.02 45.50  9.65 13.73 11.27  8.18  6.43  9.66  7.61  3.19  2.65      20.24      5.91\n",
      "84    mrr    43.92 10.57  8.43 31.00 45.53  9.61 13.73 11.26  8.19  6.46  9.67  7.67  3.22  2.68      20.25      5.94\n",
      "89    mrr    43.94 10.53  8.42 31.03 45.56  9.62 13.69 11.21  8.18  6.47  9.63  7.61  3.20  2.71      20.24      5.92\n",
      "94    mrr    43.88 10.55  8.35 30.98 45.64  9.69 13.68 11.21  8.17  6.45  9.61  7.63  3.22  2.68      20.24      5.92\n",
      "99    mrr    43.88 10.57  8.37 31.01 45.53  9.66 13.61 11.27  8.18  6.45  9.60  7.64  3.21  2.65      20.23      5.91\n",
      "NN evaluate test\n",
      "                1p    2p    3p    2i    3i    pi    ip    2u    up   2in   3in   inp   pin   pni  epfo mean  Neg mean\n",
      "epoch metric                                                                                                         \n",
      "79    mrr    45.55 12.67  9.94 33.53 47.00 11.76 17.13 14.03 10.03  8.87 11.47  7.10  3.54  3.10      22.40      6.82\n",
      "84    mrr    45.53 12.64 10.06 33.65 47.01 11.93 17.17 14.02 10.07  8.87 11.52  7.09  3.55  3.14      22.45      6.83\n",
      "89    mrr    45.57 12.65  9.97 33.69 47.10 11.90 17.18 14.00 10.02  8.85 11.46  7.08  3.55  3.14      22.45      6.82\n",
      "94    mrr    45.55 12.67  9.90 33.68 47.23 11.85 17.24 13.98  9.98  8.89 11.51  7.10  3.54  3.16      22.45      6.84\n",
      "99    mrr    45.56 12.59  9.81 33.64 47.11 11.79 17.15 14.02 10.01  8.85 11.56  7.14  3.57  3.12      22.41      6.85\n"
     ]
    }
   ],
   "source": [
    "# 4096 already\n",
    "show_trajectory('log/FB15k-237/lmpnn-complex1k-eps_0.01/output.log', metrics=['mrr'])"
   ]
  },
  {
   "cell_type": "code",
   "execution_count": 10,
   "metadata": {},
   "outputs": [
    {
     "name": "stdout",
     "output_type": "stream",
     "text": [
      "CQD evaluate valid\n",
      "CQD evaluate test\n",
      "tv evaluate valid\n",
      "tv evaluate test\n",
      "NN evaluate valid\n",
      "                1p    2p    3p    2i    3i    pi    ip    2u    up   2in   3in   inp   pin   pni  epfo mean  Neg mean\n",
      "epoch metric                                                                                                         \n",
      "79    mrr    43.83 10.54  8.41 31.06 45.39 17.21 13.80 11.27  8.27  6.56  9.70  7.76  3.59  4.05      21.09      6.33\n",
      "84    mrr    43.86 10.63  8.55 31.06 45.39 17.27 13.72 11.28  8.30  6.62  9.71  7.72  3.61  4.04      21.12      6.34\n",
      "89    mrr    43.84 10.63  8.50 31.18 45.44 17.28 13.81 11.26  8.25  6.60  9.68  7.71  3.62  3.99      21.13      6.32\n",
      "94    mrr    43.86 10.62  8.44 31.10 45.41 17.28 13.84 11.29  8.31  6.56  9.67  7.73  3.60  4.05      21.13      6.32\n",
      "99    mrr    43.84 10.54  8.40 31.08 45.47 17.31 13.79 11.29  8.30  6.56  9.62  7.80  3.62  4.00      21.11      6.32\n",
      "NN evaluate test\n",
      "                1p    2p    3p    2i    3i    pi    ip    2u    up   2in   3in   inp   pin   pni  epfo mean  Neg mean\n",
      "epoch metric                                                                                                         \n",
      "79    mrr    45.54 12.63  9.80 33.63 46.88 19.73 17.45 14.09 10.08  8.82 11.54  7.33  4.08  5.53      23.32      7.46\n",
      "84    mrr    45.59 12.73  9.88 33.64 46.97 19.71 17.45 14.02 10.13  8.85 11.61  7.30  4.09  5.51      23.35      7.47\n",
      "89    mrr    45.56 12.66  9.89 33.69 47.05 19.78 17.52 14.08 10.06  8.85 11.55  7.34  4.07  5.46      23.37      7.45\n",
      "94    mrr    45.56 12.66  9.88 33.61 47.02 19.87 17.50 14.06 10.09  8.84 11.54  7.37  4.09  5.52      23.36      7.47\n",
      "99    mrr    45.57 12.72  9.81 33.69 47.18 19.80 17.54 14.05 10.14  8.85 11.57  7.36  4.11  5.59      23.39      7.49\n"
     ]
    }
   ],
   "source": [
    "# 4096 already\n",
    "show_trajectory('log/FB15k-237/lmpnn-complex1k-eps_0.05/output.log', metrics=['mrr'])"
   ]
  },
  {
   "cell_type": "code",
   "execution_count": 11,
   "metadata": {},
   "outputs": [
    {
     "name": "stdout",
     "output_type": "stream",
     "text": [
      "CQD evaluate valid\n",
      "CQD evaluate test\n",
      "tv evaluate valid\n",
      "tv evaluate test\n",
      "NN evaluate valid\n",
      "                1p    2p    3p    2i    3i    pi    ip    2u    up   2in   3in   inp   pin   pni  epfo mean  Neg mean\n",
      "epoch metric                                                                                                         \n",
      "79    mrr    43.70 10.60  8.34 30.94 45.41 19.19 13.65 11.35  8.39  6.36  9.60  7.66  3.86  4.10      21.28      6.32\n",
      "84    mrr    43.78 10.61  8.40 30.96 45.45 19.13 13.64 11.35  8.42  6.35  9.58  7.60  3.90  4.13      21.30      6.31\n",
      "89    mrr    43.79 10.59  8.39 31.05 45.54 19.20 13.59 11.31  8.42  6.36  9.58  7.71  3.95  4.11      21.32      6.34\n",
      "94    mrr    43.75 10.58  8.28 31.00 45.46 19.10 13.58 11.25  8.39  6.28  9.54  7.71  3.90  4.07      21.27      6.30\n",
      "99    mrr    43.78 10.60  8.28 31.01 45.37 19.36 13.63 11.32  8.38  6.32  9.57  7.70  3.92  4.10      21.30      6.32\n",
      "NN evaluate test\n",
      "                1p    2p    3p    2i    3i    pi    ip    2u    up   2in   3in   inp   pin   pni  epfo mean  Neg mean\n",
      "epoch metric                                                                                                         \n",
      "79    mrr    45.56 12.78  9.87 33.47 46.98 21.77 17.31 14.10 10.13  8.82 11.56  7.22  4.34  5.48      23.55      7.48\n",
      "84    mrr    45.55 12.83  9.90 33.59 47.00 21.86 17.30 14.05 10.12  8.84 11.53  7.23  4.37  5.50      23.58      7.49\n",
      "89    mrr    45.55 12.83  9.88 33.61 47.08 22.06 17.34 14.10 10.10  8.83 11.59  7.24  4.33  5.51      23.62      7.50\n",
      "94    mrr    45.56 12.83  9.89 33.60 47.09 21.95 17.36 13.99 10.07  8.77 11.60  7.20  4.35  5.42      23.59      7.47\n",
      "99    mrr    45.56 12.83  9.81 33.60 47.09 21.98 17.41 14.05 10.15  8.76 11.51  7.17  4.36  5.50      23.61      7.46\n"
     ]
    }
   ],
   "source": [
    "# 4096 already\n",
    "show_trajectory('log/FB15k-237/lmpnn-complex1k-eps_0.1/output.log', metrics=['mrr'])"
   ]
  },
  {
   "cell_type": "code",
   "execution_count": 12,
   "metadata": {},
   "outputs": [
    {
     "name": "stdout",
     "output_type": "stream",
     "text": [
      "CQD evaluate valid\n",
      "CQD evaluate test\n",
      "tv evaluate valid\n",
      "tv evaluate test\n",
      "NN evaluate valid\n",
      "                1p    2p    3p    2i    3i    pi    ip    2u    up   2in   3in   inp   pin   pni  epfo mean  Neg mean\n",
      "epoch metric                                                                                                         \n",
      "79    mrr    43.70 10.62  8.38 30.85 45.15 19.40 13.17 11.28  8.21  6.34  9.38  7.69  4.03  4.02      21.20      6.29\n",
      "84    mrr    43.76 10.58  8.31 30.91 45.23 19.24 13.12 11.29  8.23  6.34  9.36  7.70  4.04  4.01      21.18      6.29\n",
      "89    mrr    43.69 10.60  8.30 30.90 45.24 19.35 13.20 11.34  8.23  6.31  9.38  7.72  4.09  4.00      21.21      6.30\n",
      "94    mrr    43.67 10.61  8.30 30.89 45.09 19.36 13.13 11.28  8.25  6.28  9.39  7.66  4.05  3.99      21.18      6.27\n",
      "99    mrr    43.75 10.67  8.31 30.95 45.20 19.41 13.21 11.32  8.23  6.37  9.34  7.68  4.06  4.00      21.23      6.29\n",
      "NN evaluate test\n",
      "                1p    2p    3p    2i    3i    pi    ip    2u    up   2in   3in   inp   pin   pni  epfo mean  Neg mean\n",
      "epoch metric                                                                                                         \n",
      "79    mrr    45.41 12.61  9.85 33.42 46.88 22.36 16.77 13.95 10.02  8.66 11.42  7.22  4.47  5.31      23.48      7.42\n",
      "84    mrr    45.43 12.53  9.78 33.38 46.78 22.32 16.72 13.96 10.03  8.61 11.31  7.23  4.43  5.25      23.44      7.36\n",
      "89    mrr    45.39 12.44  9.77 33.40 46.83 22.39 16.71 13.97 10.06  8.62 11.36  7.18  4.46  5.29      23.44      7.38\n",
      "94    mrr    45.40 12.48  9.81 33.39 46.77 22.28 16.76 13.92 10.01  8.57 11.35  7.19  4.43  5.20      23.42      7.35\n",
      "99    mrr    45.45 12.53  9.89 33.39 46.82 22.51 16.81 13.94 10.05  8.66 11.38  7.26  4.49  5.28      23.49      7.41\n"
     ]
    }
   ],
   "source": [
    "show_trajectory('log/FB15k-237/lmpnn-complex1k-eps_0.2/output.log', metrics=['mrr'])"
   ]
  },
  {
   "cell_type": "code",
   "execution_count": 13,
   "metadata": {},
   "outputs": [
    {
     "name": "stdout",
     "output_type": "stream",
     "text": [
      "CQD evaluate valid\n",
      "CQD evaluate test\n",
      "tv evaluate valid\n",
      "tv evaluate test\n",
      "NN evaluate valid\n",
      "                1p    2p    3p    2i    3i    pi    ip    2u    up   2in   3in   inp   pin   pni  epfo mean  Neg mean\n",
      "epoch metric                                                                                                         \n",
      "79    mrr    42.28 10.07  8.20 27.46 39.85 15.86 11.66 11.14  8.03  5.44  8.39  7.29  3.39  4.07      19.39      5.72\n",
      "84    mrr    42.23 10.08  8.09 27.35 40.01 15.81 11.70 11.20  8.07  5.47  8.43  7.36  3.37  4.06      19.39      5.74\n",
      "89    mrr    42.20 10.03  8.15 27.49 39.99 15.90 11.64 11.13  8.07  5.44  8.40  7.35  3.37  4.05      19.40      5.72\n",
      "94    mrr    42.30 10.03  8.18 27.52 40.16 15.87 11.66 11.20  8.04  5.48  8.42  7.32  3.42  4.06      19.44      5.74\n",
      "99    mrr    42.28 10.06  8.25 27.64 40.39 15.89 11.64 11.12  8.05  5.43  8.48  7.33  3.38  4.08      19.48      5.74\n",
      "NN evaluate test\n",
      "                1p    2p    3p    2i    3i    pi    ip    2u    up   2in   3in   inp   pin   pni  epfo mean  Neg mean\n",
      "epoch metric                                                                                                         \n",
      "79    mrr    43.74 11.87  9.59 30.30 42.05 18.20 14.84 13.74  9.58  7.36 10.26  7.01  3.73  5.48      21.54      6.77\n",
      "84    mrr    43.81 11.83  9.58 30.35 42.02 18.12 14.80 13.83  9.60  7.34 10.21  6.98  3.70  5.44      21.55      6.73\n",
      "89    mrr    43.79 11.83  9.65 30.40 42.18 18.22 14.81 13.78  9.60  7.33 10.27  6.92  3.70  5.46      21.59      6.74\n",
      "94    mrr    43.92 11.90  9.62 30.47 42.22 18.15 14.86 13.78  9.59  7.30 10.23  6.95  3.72  5.47      21.61      6.74\n",
      "99    mrr    43.92 11.90  9.67 30.53 42.34 18.16 14.80 13.75  9.59  7.30 10.26  6.97  3.76  5.41      21.63      6.74\n"
     ]
    }
   ],
   "source": [
    "show_trajectory('log/FB15k-237/lmpnn-complex1k-eps_0.5/output.log', metrics=['mrr'])"
   ]
  },
  {
   "cell_type": "code",
   "execution_count": 14,
   "metadata": {},
   "outputs": [
    {
     "name": "stdout",
     "output_type": "stream",
     "text": [
      "CQD evaluate valid\n",
      "CQD evaluate test\n",
      "tv evaluate valid\n",
      "tv evaluate test\n",
      "NN evaluate valid\n",
      "                1p    2p    3p    2i    3i    pi    ip    2u    up   2in   3in   inp   pin   pni  epfo mean  Neg mean\n",
      "epoch metric                                                                                                         \n",
      "4     mrr    26.02  6.09  5.86  7.13  7.72  6.33  5.75  7.02  5.67  1.69  3.37  6.02  2.39  2.67       8.62      3.23\n",
      "NN evaluate test\n",
      "                1p    2p    3p    2i    3i    pi    ip    2u    up   2in   3in   inp   pin   pni  epfo mean  Neg mean\n",
      "epoch metric                                                                                                         \n",
      "4     mrr    26.97  6.91  7.02  8.46  8.42  7.43  6.83  9.19  6.41  2.62  4.17  5.50  2.70  3.21       9.74      3.64\n"
     ]
    }
   ],
   "source": [
    "show_trajectory('log/FB15k-237/lmpnn-complex1k-eps_1/output.log', metrics=['mrr'])"
   ]
  },
  {
   "cell_type": "code",
   "execution_count": 15,
   "metadata": {},
   "outputs": [
    {
     "name": "stdout",
     "output_type": "stream",
     "text": [
      "CQD evaluate valid\n",
      "CQD evaluate test\n",
      "tv evaluate valid\n",
      "tv evaluate test\n",
      "NN evaluate valid\n",
      "                1p    2p    3p    2i    3i    pi    ip    2u    up   2in   3in   inp   pin   pni  epfo mean  Neg mean\n",
      "epoch metric                                                                                                         \n",
      "4     mrr     6.14  5.71  5.70  1.18  0.96  4.32  5.21  1.14  5.40  0.11  0.41  6.04  2.31  1.47       3.97      2.07\n",
      "NN evaluate test\n",
      "                1p    2p    3p    2i    3i    pi    ip    2u    up   2in   3in   inp   pin   pni  epfo mean  Neg mean\n",
      "epoch metric                                                                                                         \n",
      "4     mrr     6.26  6.62  6.71  1.32  1.14  5.21  6.28  1.47  5.96  0.16  0.51  5.38  2.57  1.58       4.55      2.04\n"
     ]
    }
   ],
   "source": [
    "show_trajectory('log/FB15k-237/lmpnn-complex1k-eps_2/output.log', metrics=['mrr'])"
   ]
  },
  {
   "cell_type": "markdown",
   "metadata": {},
   "source": [
    "# Visualize Temp"
   ]
  },
  {
   "cell_type": "code",
   "execution_count": 16,
   "metadata": {},
   "outputs": [
    {
     "name": "stdout",
     "output_type": "stream",
     "text": [
      "CQD evaluate valid\n",
      "CQD evaluate test\n",
      "tv evaluate valid\n",
      "tv evaluate test\n",
      "NN evaluate valid\n",
      "                1p    2p    3p    2i    3i    pi    ip    2u    up   2in   3in   inp   pin   pni  epfo mean  Neg mean\n",
      "epoch metric                                                                                                         \n",
      "84    mrr    42.16 10.51  8.81 28.96 45.36 16.07 12.46 10.87  8.70  5.29  9.87  7.29  4.32  3.76      20.43      6.11\n",
      "89    mrr    42.09 10.50  8.83 29.07 45.34 16.26 12.55 10.82  8.83  5.45  9.90  7.29  4.32  3.75      20.48      6.14\n",
      "94    mrr    42.04 10.56  8.83 29.05 45.54 16.17 12.51 10.89  8.79  5.40  9.95  7.37  4.21  3.74      20.49      6.13\n",
      "99    mrr    42.05 10.44  8.81 29.24 45.74 16.44 12.73 10.96  8.87  5.38  9.90  7.38  4.30  3.73      20.59      6.14\n",
      "      mrr    42.17 10.68  9.17 29.08 45.30 15.79 12.94 10.93  8.80  5.30  9.92  7.29  4.28  3.71      20.54      6.10\n",
      "NN evaluate test\n",
      "                1p    2p    3p    2i    3i    pi    ip    2u    up   2in   3in   inp   pin   pni  epfo mean  Neg mean\n",
      "epoch metric                                                                                                         \n",
      "84    mrr    43.84 12.00  9.84 31.57 45.82 17.75 15.39 13.41  9.84  7.01 10.88  7.15  4.60  4.37      22.16      6.80\n",
      "89    mrr    43.65 12.08  9.97 31.69 45.95 17.71 15.29 13.43 10.02  7.05 10.89  7.17  4.58  4.32      22.20      6.80\n",
      "94    mrr    43.75 12.00  9.81 31.61 45.97 17.63 15.34 13.37  9.99  7.00 11.11  7.12  4.60  4.32      22.16      6.83\n",
      "99    mrr    43.70 12.08  9.91 31.64 46.36 18.01 15.52 13.31  9.96  6.98 11.19  7.13  4.52  4.30      22.28      6.82\n",
      "      mrr    43.91 12.08  9.71 31.89 46.50 18.28 15.23 13.53 10.15  6.93 11.19  7.15  4.61  4.35      22.37      6.85\n"
     ]
    }
   ],
   "source": [
    "show_trajectory('log/FB15k-237/lmpnn-complex1k-temp_0.01/output.log', metrics=['mrr'])"
   ]
  },
  {
   "cell_type": "code",
   "execution_count": 17,
   "metadata": {},
   "outputs": [
    {
     "name": "stdout",
     "output_type": "stream",
     "text": [
      "****************************************\n",
      "CQD evaluate valid\n",
      "CQD evaluate test\n",
      "tv evaluate valid\n",
      "tv evaluate test\n",
      "NN evaluate valid\n",
      "                1p    2p    3p    2i    3i    pi    ip    2u    up   2in   3in   inp   pin   pni  epfo mean  Neg mean\n",
      "epoch metric                                                                                                         \n",
      "79    mrr    44.19 11.24  9.29 31.82 47.62 20.01 14.24 11.12  8.71  6.28 10.89  8.16  4.06  3.93      22.03      6.66\n",
      "84    mrr    44.19 11.27  9.35 31.81 47.62 20.10 14.24 11.11  8.74  6.30 10.93  8.03  4.07  3.95      22.05      6.66\n",
      "89    mrr    44.17 11.17  9.37 31.89 47.70 20.03 14.28 11.09  8.73  6.27 10.80  8.13  4.04  3.99      22.05      6.65\n",
      "94    mrr    44.19 11.23  9.38 31.82 47.75 20.02 14.20 11.11  8.72  6.34 10.94  8.13  4.07  3.96      22.05      6.69\n",
      "99    mrr    44.14 11.23  9.38 31.73 47.66 20.15 14.24 11.17  8.72  6.36 10.86  8.08  4.05  3.94      22.05      6.66\n",
      "NN evaluate test\n",
      "                1p    2p    3p    2i    3i    pi    ip    2u    up   2in   3in   inp   pin   pni  epfo mean  Neg mean\n",
      "epoch metric                                                                                                         \n",
      "79    mrr    45.92 13.12 10.27 34.86 48.64 22.67 17.62 13.68 10.34  8.72 12.86  7.72  4.60  5.22      24.13      7.83\n",
      "84    mrr    45.98 13.12 10.36 34.86 48.65 22.56 17.57 13.59 10.24  8.72 12.92  7.76  4.55  5.19      24.10      7.83\n",
      "89    mrr    45.96 13.28 10.36 34.98 48.75 22.60 17.57 13.62 10.35  8.70 12.89  7.71  4.60  5.23      24.16      7.83\n",
      "94    mrr    45.99 13.21 10.29 34.94 48.73 22.78 17.58 13.58 10.32  8.76 12.96  7.69  4.62  5.16      24.16      7.84\n",
      "99    mrr    45.90 13.14 10.28 34.83 48.92 22.65 17.58 13.53 10.27  8.72 12.94  7.72  4.61  5.15      24.12      7.83\n"
     ]
    }
   ],
   "source": [
    "# 4096 already\n",
    "print(\"****\" * 10)\n",
    "show_trajectory('log/FB15k-237/lmpnn-complex1k-temp_0.05/output.log', metrics=['mrr'])"
   ]
  },
  {
   "cell_type": "code",
   "execution_count": 18,
   "metadata": {},
   "outputs": [
    {
     "name": "stdout",
     "output_type": "stream",
     "text": [
      "CQD evaluate valid\n",
      "CQD evaluate test\n",
      "tv evaluate valid\n",
      "tv evaluate test\n",
      "NN evaluate valid\n",
      "                1p    2p    3p    2i    3i    pi    ip    2u    up   2in   3in   inp   pin   pni  epfo mean  Neg mean\n",
      "epoch metric                                                                                                         \n",
      "79    mrr    43.82 10.59  8.38 31.06 45.40 18.97 13.52 11.34  8.36  6.46  9.58  7.68  3.97  4.07      21.27      6.35\n",
      "84    mrr    43.84 10.56  8.37 31.08 45.46 18.97 13.51 11.31  8.33  6.44  9.54  7.73  3.95  4.09      21.27      6.35\n",
      "89    mrr    43.81 10.60  8.35 31.12 45.53 19.10 13.53 11.35  8.33  6.44  9.55  7.71  3.95  4.09      21.30      6.35\n",
      "94    mrr    43.83 10.61  8.44 31.06 45.44 19.13 13.51 11.36  8.32  6.40  9.53  7.75  3.94  4.10      21.30      6.34\n",
      "99    mrr    43.81 10.56  8.40 31.05 45.57 19.12 13.59 11.35  8.33  6.44  9.57  7.72  3.93  4.17      21.31      6.37\n",
      "NN evaluate test\n",
      "                1p    2p    3p    2i    3i    pi    ip    2u    up   2in   3in   inp   pin   pni  epfo mean  Neg mean\n",
      "epoch metric                                                                                                         \n",
      "79    mrr    45.54 12.81  9.91 33.76 46.97 21.83 17.07 13.95 10.06  8.81 11.51  7.18  4.36  5.34      23.55      7.44\n",
      "84    mrr    45.57 12.82  9.92 33.71 46.99 21.99 17.08 13.96 10.06  8.82 11.46  7.22  4.35  5.41      23.57      7.45\n",
      "89    mrr    45.55 12.75  9.82 33.80 47.08 21.98 17.11 13.97  9.98  8.79 11.51  7.23  4.36  5.35      23.56      7.45\n",
      "94    mrr    45.56 12.80  9.93 33.70 47.00 22.12 17.14 14.04 10.04  8.79 11.50  7.24  4.34  5.39      23.59      7.45\n",
      "99    mrr    45.60 12.72  9.94 33.69 47.07 21.99 17.14 14.00 10.04  8.77 11.51  7.27  4.42  5.37      23.58      7.47\n"
     ]
    }
   ],
   "source": [
    "# 4096 already\n",
    "show_trajectory('log/FB15k-237/lmpnn-complex1k-temp_0.1/output.log', metrics=['mrr'])"
   ]
  },
  {
   "cell_type": "code",
   "execution_count": 19,
   "metadata": {},
   "outputs": [
    {
     "name": "stdout",
     "output_type": "stream",
     "text": [
      "CQD evaluate valid\n",
      "CQD evaluate test\n",
      "tv evaluate valid\n",
      "tv evaluate test\n",
      "NN evaluate valid\n",
      "                1p    2p    3p    2i    3i    pi    ip    2u    up   2in   3in   inp   pin   pni  epfo mean  Neg mean\n",
      "epoch metric                                                                                                         \n",
      "79    mrr    42.22  9.38  7.10 28.69 42.17 16.67 12.35 11.01  7.59  5.90  8.01  6.69  3.46  3.75      19.69      5.56\n",
      "84    mrr    42.20  9.48  7.13 28.64 42.12 16.61 12.34 10.98  7.60  5.87  7.96  6.63  3.42  3.79      19.68      5.54\n",
      "89    mrr    42.24  9.40  7.10 28.73 42.17 16.73 12.22 11.02  7.59  5.91  8.00  6.67  3.45  3.78      19.69      5.56\n",
      "94    mrr    42.20  9.36  7.15 28.63 42.13 16.67 12.35 10.98  7.60  5.86  7.96  6.67  3.43  3.79      19.67      5.54\n",
      "99    mrr    42.20  9.41  7.17 28.70 42.20 16.66 12.31 10.97  7.56  5.87  8.00  6.69  3.44  3.76      19.69      5.55\n",
      "NN evaluate test\n",
      "                1p    2p    3p    2i    3i    pi    ip    2u    up   2in   3in   inp   pin   pni  epfo mean  Neg mean\n",
      "epoch metric                                                                                                         \n",
      "79    mrr    43.65 11.38  8.92 31.07 43.56 19.02 15.86 13.25  9.11  7.64  9.48  6.29  3.81  4.94      21.76      6.43\n",
      "84    mrr    43.64 11.37  8.85 30.97 43.48 18.92 15.78 13.20  9.11  7.58  9.43  6.29  3.83  4.87      21.70      6.40\n",
      "89    mrr    43.69 11.36  8.84 31.06 43.57 18.98 15.85 13.26  9.08  7.63  9.44  6.26  3.81  4.92      21.74      6.41\n",
      "94    mrr    43.66 11.39  8.80 31.08 43.57 19.03 15.83 13.21  9.05  7.62  9.48  6.27  3.76  4.91      21.74      6.41\n",
      "99    mrr    43.65 11.37  8.83 31.04 43.61 19.02 15.77 13.20  9.03  7.56  9.47  6.30  3.77  4.92      21.73      6.40\n"
     ]
    }
   ],
   "source": [
    "# 4096 already\n",
    "show_trajectory('log/FB15k-237/lmpnn-complex1k-temp_0.25/output.log', metrics=['mrr'])"
   ]
  },
  {
   "cell_type": "code",
   "execution_count": 20,
   "metadata": {},
   "outputs": [
    {
     "name": "stdout",
     "output_type": "stream",
     "text": [
      "CQD evaluate valid\n",
      "CQD evaluate test\n",
      "tv evaluate valid\n",
      "tv evaluate test\n",
      "NN evaluate valid\n",
      "                1p    2p    3p    2i    3i    pi    ip    2u    up   2in   3in   inp   pin   pni  epfo mean  Neg mean\n",
      "epoch metric                                                                                                         \n",
      "79    mrr    41.87  9.14  6.86 28.02 41.33 15.77 12.01 10.85  7.44  5.52  7.55  6.48  3.34  3.62      19.25      5.30\n",
      "84    mrr    41.86  9.12  6.89 28.09 41.42 15.80 11.96 10.83  7.43  5.52  7.51  6.44  3.35  3.61      19.27      5.29\n",
      "89    mrr    41.86  9.12  6.81 28.07 41.32 15.77 12.03 10.81  7.43  5.52  7.52  6.42  3.36  3.60      19.25      5.28\n",
      "94    mrr    41.88  9.12  6.81 28.04 41.41 15.81 12.00 10.82  7.45  5.51  7.54  6.44  3.35  3.63      19.26      5.29\n",
      "99    mrr    41.85  9.11  6.90 28.10 41.34 15.72 11.98 10.81  7.43  5.49  7.53  6.44  3.34  3.60      19.25      5.28\n",
      "NN evaluate test\n",
      "                1p    2p    3p    2i    3i    pi    ip    2u    up   2in   3in   inp   pin   pni  epfo mean  Neg mean\n",
      "epoch metric                                                                                                         \n",
      "79    mrr    43.34 10.97  8.47 30.36 42.63 17.88 15.05 13.07  8.67  7.48  8.98  6.15  3.59  4.57      21.16      6.15\n",
      "84    mrr    43.36 11.01  8.46 30.32 42.64 17.96 15.07 13.05  8.65  7.46  8.97  6.16  3.56  4.59      21.17      6.15\n",
      "89    mrr    43.36 10.90  8.45 30.33 42.72 17.90 15.04 13.06  8.62  7.44  8.96  6.11  3.57  4.56      21.15      6.13\n",
      "94    mrr    43.33 11.00  8.41 30.32 42.69 18.01 15.08 13.05  8.64  7.45  8.91  6.17  3.56  4.60      21.17      6.14\n",
      "99    mrr    43.33 10.94  8.45 30.32 42.60 17.85 15.06 13.07  8.65  7.43  8.94  6.15  3.54  4.61      21.14      6.13\n"
     ]
    }
   ],
   "source": [
    "# 4096 already\n",
    "show_trajectory('log/FB15k-237/lmpnn-complex1k-temp_0.5/output.log', metrics=['mrr'])"
   ]
  },
  {
   "cell_type": "code",
   "execution_count": 21,
   "metadata": {},
   "outputs": [
    {
     "name": "stdout",
     "output_type": "stream",
     "text": [
      "CQD evaluate valid\n",
      "CQD evaluate test\n",
      "tv evaluate valid\n",
      "tv evaluate test\n",
      "NN evaluate valid\n",
      "                1p    2p    3p    2i    3i    pi    ip    2u    up   2in   3in   inp   pin   pni  epfo mean  Neg mean\n",
      "epoch metric                                                                                                         \n",
      "4     mrr    41.00  8.21  6.20 24.64 34.69 11.02  9.90 10.59  7.09  4.88  7.39  5.95  3.05  3.20      17.04      4.89\n",
      "9     mrr    41.47  8.34  6.34 25.78 36.88 11.61 10.62 10.70  7.18  5.26  7.52  6.11  3.07  3.28      17.66      5.05\n",
      "14    mrr    41.39  8.64  6.48 26.09 37.57 11.53 10.91 10.76  7.15  5.36  7.21  6.15  3.07  3.28      17.83      5.01\n",
      "NN evaluate test\n",
      "                1p    2p    3p    2i    3i    pi    ip    2u    up   2in   3in   inp   pin   pni  epfo mean  Neg mean\n",
      "epoch metric                                                                                                         \n",
      "4     mrr    42.70 10.16  7.77 27.02 36.29 12.40 12.81 13.09  8.50  6.58  8.80  5.49  3.25  4.13      18.97      5.65\n",
      "9     mrr    43.08 10.40  7.84 28.16 38.67 13.23 13.29 13.14  8.51  7.27  8.80  5.72  3.28  4.35      19.59      5.88\n",
      "14    mrr    42.95 10.44  8.12 28.18 38.94 13.15 13.65 13.16  8.63  7.30  8.42  5.71  3.26  4.26      19.69      5.79\n"
     ]
    }
   ],
   "source": [
    "show_trajectory('log/FB15k-237/lmpnn-complex1k-temp_1/output.log', metrics=['mrr'])"
   ]
  },
  {
   "cell_type": "markdown",
   "metadata": {},
   "source": [
    "# Mean Aggregation"
   ]
  },
  {
   "cell_type": "code",
   "execution_count": 22,
   "metadata": {},
   "outputs": [
    {
     "name": "stdout",
     "output_type": "stream",
     "text": [
      "CQD evaluate valid\n",
      "CQD evaluate test\n",
      "tv evaluate valid\n",
      "tv evaluate test\n",
      "NN evaluate valid\n",
      "                1p    2p    3p    2i    3i    pi    ip    2u    up   2in   3in   inp   pin   pni  epfo mean  Neg mean\n",
      "epoch metric                                                                                                         \n",
      "79    mrr    43.84 10.49  8.37 30.48 44.29 19.14 12.80 11.28  8.22  6.39  9.04  7.68  3.96  4.05      20.99      6.23\n",
      "84    mrr    43.84 10.46  8.44 30.54 44.42 19.07 12.82 11.30  8.22  6.43  9.11  7.51  3.94  4.06      21.01      6.21\n",
      "89    mrr    43.86 10.52  8.45 30.55 44.39 19.15 12.78 11.28  8.16  6.34  9.07  7.53  3.93  4.04      21.02      6.18\n",
      "94    mrr    43.84 10.47  8.42 30.54 44.49 19.21 12.86 11.28  8.21  6.41  9.11  7.64  3.98  4.06      21.04      6.24\n",
      "99    mrr    43.87 10.48  8.40 30.63 44.55 19.27 12.88 11.26  8.21  6.40  9.09  7.58  3.96  4.03      21.06      6.21\n",
      "NN evaluate test\n",
      "                1p    2p    3p    2i    3i    pi    ip    2u    up   2in   3in   inp   pin   pni  epfo mean  Neg mean\n",
      "epoch metric                                                                                                         \n",
      "79    mrr    45.58 12.49  9.85 33.26 45.97 21.83 15.88 14.00  9.73  8.60 11.16  7.06  4.38  5.47      23.18      7.34\n",
      "84    mrr    45.50 12.50  9.89 33.29 46.08 22.00 15.87 14.01  9.75  8.61 11.23  7.15  4.42  5.45      23.21      7.37\n",
      "89    mrr    45.51 12.51  9.87 33.35 46.06 22.10 15.93 14.06  9.73  8.59 11.13  7.09  4.47  5.46      23.24      7.35\n",
      "94    mrr    45.54 12.56  9.80 33.33 46.12 22.04 16.00 14.06  9.81  8.61 11.16  7.08  4.47  5.36      23.25      7.34\n",
      "99    mrr    45.51 12.48  9.82 33.30 46.22 22.03 15.99 14.00  9.75  8.59 11.18  7.16  4.44  5.36      23.24      7.35\n"
     ]
    }
   ],
   "source": [
    "show_trajectory('log/FB15k-237/lmpnn-complex1k-mean_agg/output.log')"
   ]
  },
  {
   "cell_type": "code",
   "execution_count": 23,
   "metadata": {},
   "outputs": [
    {
     "name": "stdout",
     "output_type": "stream",
     "text": [
      "CQD evaluate valid\n",
      "CQD evaluate test\n",
      "tv evaluate valid\n",
      "tv evaluate test\n",
      "NN evaluate valid\n",
      "                1p    2p    3p    2i    3i    pi    ip    2u    up   2in   3in   inp   pin   pni  epfo mean  Neg mean\n",
      "epoch metric                                                                                                         \n",
      "79    mrr    43.82 10.59  8.38 31.06 45.40 18.97 13.52 11.34  8.36  6.46  9.58  7.68  3.97  4.07      21.27      6.35\n",
      "84    mrr    43.84 10.56  8.37 31.08 45.46 18.97 13.51 11.31  8.33  6.44  9.54  7.73  3.95  4.09      21.27      6.35\n",
      "89    mrr    43.81 10.60  8.35 31.12 45.53 19.10 13.53 11.35  8.33  6.44  9.55  7.71  3.95  4.09      21.30      6.35\n",
      "94    mrr    43.83 10.61  8.44 31.06 45.44 19.13 13.51 11.36  8.32  6.40  9.53  7.75  3.94  4.10      21.30      6.34\n",
      "99    mrr    43.81 10.56  8.40 31.05 45.57 19.12 13.59 11.35  8.33  6.44  9.57  7.72  3.93  4.17      21.31      6.37\n",
      "NN evaluate test\n",
      "                1p    2p    3p    2i    3i    pi    ip    2u    up   2in   3in   inp   pin   pni  epfo mean  Neg mean\n",
      "epoch metric                                                                                                         \n",
      "79    mrr    45.54 12.81  9.91 33.76 46.97 21.83 17.07 13.95 10.06  8.81 11.51  7.18  4.36  5.34      23.55      7.44\n",
      "84    mrr    45.57 12.82  9.92 33.71 46.99 21.99 17.08 13.96 10.06  8.82 11.46  7.22  4.35  5.41      23.57      7.45\n",
      "89    mrr    45.55 12.75  9.82 33.80 47.08 21.98 17.11 13.97  9.98  8.79 11.51  7.23  4.36  5.35      23.56      7.45\n",
      "94    mrr    45.56 12.80  9.93 33.70 47.00 22.12 17.14 14.04 10.04  8.79 11.50  7.24  4.34  5.39      23.59      7.45\n",
      "99    mrr    45.60 12.72  9.94 33.69 47.07 21.99 17.14 14.00 10.04  8.77 11.51  7.27  4.42  5.37      23.58      7.47\n"
     ]
    }
   ],
   "source": [
    "show_trajectory('log/FB15k-237/lmpnn-complex1k-temp_0.1/output.log', metrics=['mrr'])"
   ]
  },
  {
   "cell_type": "code",
   "execution_count": 24,
   "metadata": {},
   "outputs": [
    {
     "name": "stdout",
     "output_type": "stream",
     "text": [
      "CQD evaluate valid\n",
      "CQD evaluate test\n",
      "tv evaluate valid\n",
      "tv evaluate test\n",
      "NN evaluate valid\n",
      "                1p    2p    3p    2i    3i    pi    ip    2u    up   2in   3in   inp   pin   pni  epfo mean  Neg mean\n",
      "epoch metric                                                                                                         \n",
      "79    mrr    43.70 10.60  8.34 30.94 45.41 19.19 13.65 11.35  8.39  6.36  9.60  7.66  3.86  4.10      21.28      6.32\n",
      "84    mrr    43.78 10.61  8.40 30.96 45.45 19.13 13.64 11.35  8.42  6.35  9.58  7.60  3.90  4.13      21.30      6.31\n",
      "89    mrr    43.79 10.59  8.39 31.05 45.54 19.20 13.59 11.31  8.42  6.36  9.58  7.71  3.95  4.11      21.32      6.34\n",
      "94    mrr    43.75 10.58  8.28 31.00 45.46 19.10 13.58 11.25  8.39  6.28  9.54  7.71  3.90  4.07      21.27      6.30\n",
      "99    mrr    43.78 10.60  8.28 31.01 45.37 19.36 13.63 11.32  8.38  6.32  9.57  7.70  3.92  4.10      21.30      6.32\n",
      "NN evaluate test\n",
      "                1p    2p    3p    2i    3i    pi    ip    2u    up   2in   3in   inp   pin   pni  epfo mean  Neg mean\n",
      "epoch metric                                                                                                         \n",
      "79    mrr    45.56 12.78  9.87 33.47 46.98 21.77 17.31 14.10 10.13  8.82 11.56  7.22  4.34  5.48      23.55      7.48\n",
      "84    mrr    45.55 12.83  9.90 33.59 47.00 21.86 17.30 14.05 10.12  8.84 11.53  7.23  4.37  5.50      23.58      7.49\n",
      "89    mrr    45.55 12.83  9.88 33.61 47.08 22.06 17.34 14.10 10.10  8.83 11.59  7.24  4.33  5.51      23.62      7.50\n",
      "94    mrr    45.56 12.83  9.89 33.60 47.09 21.95 17.36 13.99 10.07  8.77 11.60  7.20  4.35  5.42      23.59      7.47\n",
      "99    mrr    45.56 12.83  9.81 33.60 47.09 21.98 17.41 14.05 10.15  8.76 11.51  7.17  4.36  5.50      23.61      7.46\n"
     ]
    }
   ],
   "source": [
    "show_trajectory('log/FB15k-237/lmpnn-complex1k-eps_0.1/output.log', metrics=['mrr'])"
   ]
  },
  {
   "cell_type": "markdown",
   "metadata": {},
   "source": [
    "# depth shift"
   ]
  },
  {
   "cell_type": "code",
   "execution_count": 25,
   "metadata": {},
   "outputs": [
    {
     "name": "stdout",
     "output_type": "stream",
     "text": [
      "CQD evaluate valid\n",
      "CQD evaluate test\n",
      "tv evaluate valid\n",
      "tv evaluate test\n",
      "NN evaluate valid\n",
      "                1p    2p    3p    2i    3i    pi    ip    2u    up   2in   3in   inp   pin   pni  epfo mean  Neg mean\n",
      "epoch metric                                                                                                         \n",
      "79    mrr    43.82  5.77  6.73 31.25 46.04 10.02  5.18 11.28  5.47  6.30  9.57  6.03  2.63  3.16      18.40      5.54\n",
      "84    mrr    43.80  5.79  6.74 31.30 45.99 10.18  5.14 11.22  5.45  6.29  9.56  6.04  2.66  3.13      18.40      5.54\n",
      "89    mrr    43.77  5.75  6.78 31.35 45.96 10.25  5.05 11.22  5.43  6.31  9.57  5.99  2.63  3.16      18.40      5.53\n",
      "94    mrr    43.79  5.78  6.74 31.29 45.97 10.37  5.15 11.20  5.47  6.33  9.61  6.05  2.65  3.13      18.42      5.55\n",
      "99    mrr    43.82  5.84  6.76 31.32 46.08 10.48  5.20 11.24  5.49  6.33  9.59  6.03  2.63  3.15      18.47      5.55\n",
      "NN evaluate test\n",
      "                1p    2p    3p    2i    3i    pi    ip    2u    up   2in   3in   inp   pin   pni  epfo mean  Neg mean\n",
      "epoch metric                                                                                                         \n",
      "79    mrr    45.54  6.80  7.84 34.02 47.58 11.26  6.20 14.06  6.01  8.66 11.66  5.62  2.82  3.95      19.92      6.54\n",
      "84    mrr    45.52  6.85  7.83 34.09 47.51 11.36  6.21 13.98  6.08  8.60 11.68  5.65  2.83  3.91      19.94      6.53\n",
      "89    mrr    45.52  6.75  7.82 34.08 47.46 11.49  6.21 13.97  5.98  8.52 11.63  5.62  2.83  3.92      19.92      6.50\n",
      "94    mrr    45.51  6.80  7.85 34.06 47.54 11.49  6.20 14.00  5.98  8.56 11.61  5.62  2.83  3.92      19.94      6.51\n",
      "99    mrr    45.53  6.78  7.80 34.13 47.52 11.64  6.26 13.93  6.06  8.61 11.69  5.62  2.85  3.94      19.96      6.54\n"
     ]
    }
   ],
   "source": [
    "show_trajectory('log/FB15k-237/lmpnn-complex1k-depth_shift_-1/output.log')"
   ]
  },
  {
   "cell_type": "code",
   "execution_count": 26,
   "metadata": {},
   "outputs": [
    {
     "name": "stdout",
     "output_type": "stream",
     "text": [
      "CQD evaluate valid\n",
      "CQD evaluate test\n",
      "tv evaluate valid\n",
      "tv evaluate test\n",
      "NN evaluate valid\n",
      "                1p    2p    3p    2i    3i    pi    ip    2u    up   2in   3in   inp   pin   pni  epfo mean  Neg mean\n",
      "epoch metric                                                                                                         \n",
      "79    mrr    43.80 10.56  8.23 30.18 44.27 17.51 12.66 11.07  8.25  6.21  9.02  7.99  3.76  4.02      20.73      6.20\n",
      "84    mrr    43.75 10.63  8.28 30.24 44.24 17.53 12.58 11.10  8.23  6.22  8.91  8.02  3.71  4.00      20.73      6.17\n",
      "89    mrr    43.77 10.60  8.35 30.22 44.22 17.48 12.66 11.13  8.26  6.20  8.91  8.03  3.77  4.01      20.74      6.18\n",
      "94    mrr    43.77 10.57  8.26 30.35 44.35 17.50 12.59 11.13  8.16  6.21  9.02  8.00  3.77  4.01      20.74      6.20\n",
      "99    mrr    43.71 10.57  8.23 30.34 44.41 17.51 12.67 11.10  8.17  6.24  8.94  8.01  3.75  3.99      20.75      6.19\n",
      "NN evaluate test\n",
      "                1p    2p    3p    2i    3i    pi    ip    2u    up   2in   3in   inp   pin   pni  epfo mean  Neg mean\n",
      "epoch metric                                                                                                         \n",
      "79    mrr    45.29 12.65  9.98 33.04 46.28 20.30 16.26 13.64  9.95  8.03 10.76  7.57  4.25  5.30      23.04      7.18\n",
      "84    mrr    45.32 12.74 10.06 32.96 46.25 20.22 16.16 13.69  9.99  7.97 10.75  7.62  4.30  5.23      23.04      7.18\n",
      "89    mrr    45.39 12.68 10.03 32.95 46.30 20.32 16.25 13.62  9.95  8.02 10.86  7.61  4.32  5.24      23.06      7.21\n",
      "94    mrr    45.32 12.66  9.96 32.98 46.33 20.23 16.17 13.59  9.95  8.03 10.77  7.54  4.26  5.22      23.02      7.16\n",
      "99    mrr    45.30 12.64 10.05 33.09 46.39 20.37 16.25 13.66  9.96  7.98 10.86  7.53  4.31  5.23      23.08      7.18\n"
     ]
    }
   ],
   "source": [
    "show_trajectory('log/FB15k-237/lmpnn-complex1k-depth_shift_1/output.log')"
   ]
  },
  {
   "cell_type": "code",
   "execution_count": 27,
   "metadata": {},
   "outputs": [
    {
     "name": "stdout",
     "output_type": "stream",
     "text": [
      "CQD evaluate valid\n",
      "CQD evaluate test\n",
      "tv evaluate valid\n",
      "tv evaluate test\n",
      "NN evaluate valid\n",
      "                1p    2p    3p    2i    3i    pi    ip    2u    up   2in   3in   inp   pin   pni  epfo mean  Neg mean\n",
      "epoch metric                                                                                                         \n",
      "79    mrr    44.01 10.73  8.63 30.06 44.09 18.28 13.83 11.02  8.27  6.08  9.02  8.18  3.60  4.02      20.99      6.18\n",
      "84    mrr    43.94 10.75  8.55 30.07 44.05 18.29 13.82 11.04  8.21  6.02  8.95  8.14  3.56  4.01      20.97      6.14\n",
      "89    mrr    44.09 10.72  8.57 30.06 44.26 18.19 13.87 11.00  8.22  6.09  8.98  8.19  3.60  3.99      21.00      6.17\n",
      "94    mrr    44.08 10.76  8.53 30.06 44.37 18.26 13.92 11.06  8.23  6.11  9.05  8.19  3.59  4.03      21.03      6.19\n",
      "99    mrr    43.99 10.84  8.68 30.13 44.31 18.37 13.79 11.08  8.22  6.09  8.98  8.20  3.59  4.03      21.05      6.18\n",
      "NN evaluate test\n",
      "                1p    2p    3p    2i    3i    pi    ip    2u    up   2in   3in   inp   pin   pni  epfo mean  Neg mean\n",
      "epoch metric                                                                                                         \n",
      "79    mrr    45.69 13.11 10.20 32.92 45.70 21.27 17.71 13.37 10.13  7.92 11.06  7.74  4.20  5.26      23.34      7.23\n",
      "84    mrr    45.68 13.06 10.19 33.01 45.67 21.25 17.68 13.34 10.11  7.83 10.98  7.73  4.18  5.17      23.33      7.18\n",
      "89    mrr    45.77 13.07 10.22 32.93 45.89 21.31 17.77 13.39 10.10  7.82 10.95  7.73  4.20  5.21      23.38      7.18\n",
      "94    mrr    45.67 13.01 10.18 33.00 45.98 21.34 17.73 13.40 10.09  7.85 11.04  7.75  4.25  5.23      23.38      7.22\n",
      "99    mrr    45.63 13.02 10.15 32.90 45.85 21.33 17.70 13.36 10.01  7.87 10.93  7.65  4.25  5.25      23.33      7.19\n"
     ]
    }
   ],
   "source": [
    "show_trajectory('log/FB15k-237/lmpnn-complex1k-depth_shift_2/output.log')"
   ]
  },
  {
   "cell_type": "code",
   "execution_count": 28,
   "metadata": {},
   "outputs": [
    {
     "name": "stdout",
     "output_type": "stream",
     "text": [
      "CQD evaluate valid\n",
      "CQD evaluate test\n",
      "tv evaluate valid\n",
      "tv evaluate test\n",
      "NN evaluate valid\n",
      "                1p    2p    3p    2i    3i    pi    ip    2u    up   2in   3in   inp   pin   pni  epfo mean  Neg mean\n",
      "epoch metric                                                                                                         \n",
      "79    mrr    43.78 10.77  8.46 29.54 42.99 18.82 13.75 10.85  8.23  6.05  8.60  7.97  3.64  3.96      20.80      6.05\n",
      "84    mrr    43.81 10.83  8.55 29.47 42.92 18.88 13.74 10.90  8.22  6.05  8.70  8.01  3.64  3.95      20.81      6.07\n",
      "89    mrr    43.79 10.84  8.46 29.56 43.18 19.09 13.76 10.90  8.27  6.02  8.68  7.99  3.65  3.92      20.87      6.05\n",
      "94    mrr    43.85 10.82  8.52 29.51 43.22 19.14 13.86 10.85  8.26  6.01  8.78  8.00  3.66  3.95      20.89      6.08\n",
      "99    mrr    43.82 10.80  8.42 29.68 43.07 19.04 13.80 10.88  8.23  5.99  8.67  8.00  3.61  3.91      20.86      6.03\n",
      "NN evaluate test\n",
      "                1p    2p    3p    2i    3i    pi    ip    2u    up   2in   3in   inp   pin   pni  epfo mean  Neg mean\n",
      "epoch metric                                                                                                         \n",
      "79    mrr    45.45 12.99 10.27 32.14 44.89 22.08 17.46 13.38  9.98  7.79 10.94  7.61  4.17  5.20      23.18      7.14\n",
      "84    mrr    45.42 12.99 10.19 32.19 44.95 22.12 17.50 13.32 10.01  7.79 10.83  7.60  4.19  5.26      23.19      7.14\n",
      "89    mrr    45.40 13.08 10.21 32.32 45.10 22.18 17.47 13.28  9.94  7.75 10.81  7.66  4.21  5.20      23.22      7.12\n",
      "94    mrr    45.44 13.07 10.27 32.34 45.08 22.26 17.55 13.32 10.00  7.81 10.88  7.66  4.18  5.20      23.26      7.15\n",
      "99    mrr    45.37 13.03 10.13 32.37 45.22 22.10 17.44 13.31  9.96  7.70 10.90  7.65  4.22  5.17      23.21      7.13\n"
     ]
    }
   ],
   "source": [
    "show_trajectory('log/FB15k-237/lmpnn-complex1k-depth_shift_3/output.log')"
   ]
  },
  {
   "cell_type": "code",
   "execution_count": 29,
   "metadata": {},
   "outputs": [
    {
     "name": "stdout",
     "output_type": "stream",
     "text": [
      "CQD evaluate valid\n",
      "CQD evaluate test\n",
      "tv evaluate valid\n",
      "tv evaluate test\n",
      "NN evaluate valid\n",
      "                1p    2p    3p    2i    3i    pi    ip    2u    up   2in   3in   inp   pin   pni  epfo mean  Neg mean\n",
      "epoch metric                                                                                                         \n",
      "79    mrr    43.33 11.04  8.74 31.64 47.09 16.53 14.73 10.91  8.37  6.44  9.94  7.91  3.58  4.27      21.37      6.43\n",
      "84    mrr    43.29 11.02  8.68 31.69 47.12 16.54 14.79 10.93  8.40  6.46 10.05  7.85  3.58  4.23      21.38      6.43\n",
      "89    mrr    43.37 11.02  8.64 31.69 47.16 16.54 14.71 10.93  8.31  6.43  9.99  7.93  3.60  4.26      21.38      6.44\n",
      "94    mrr    43.28 10.94  8.64 31.65 47.25 16.54 14.77 10.95  8.35  6.44 10.10  7.90  3.56  4.22      21.38      6.44\n",
      "99    mrr    43.33 10.90  8.67 31.82 47.10 16.61 14.67 10.95  8.36  6.41 10.04  7.92  3.58  4.19      21.38      6.43\n",
      "NN evaluate test\n",
      "                1p    2p    3p    2i    3i    pi    ip    2u    up   2in   3in   inp   pin   pni  epfo mean  Neg mean\n",
      "epoch metric                                                                                                         \n",
      "79    mrr    44.70 13.43 10.30 34.49 48.22 19.67 18.73 13.13 10.27  8.84 12.42  7.64  4.16  5.53      23.66      7.72\n",
      "84    mrr    44.70 13.57 10.31 34.59 48.21 19.69 18.69 13.23 10.23  8.86 12.45  7.61  4.19  5.50      23.69      7.72\n",
      "89    mrr    44.71 13.43 10.22 34.67 48.44 19.69 18.64 13.14 10.19  8.89 12.39  7.55  4.16  5.63      23.68      7.72\n",
      "94    mrr    44.68 13.48 10.22 34.45 48.39 19.59 18.70 13.14 10.17  8.95 12.59  7.60  4.18  5.57      23.65      7.78\n",
      "99    mrr    44.70 13.47 10.24 34.42 48.52 19.61 18.61 13.16 10.17  8.88 12.45  7.62  4.18  5.49      23.66      7.72\n"
     ]
    }
   ],
   "source": [
    "show_trajectory('log/FB15k-237/lmpnn-complex1k-num_layers_2-hidden_8192/output.log')"
   ]
  },
  {
   "cell_type": "code",
   "execution_count": 30,
   "metadata": {},
   "outputs": [
    {
     "name": "stdout",
     "output_type": "stream",
     "text": [
      "CQD evaluate valid\n",
      "CQD evaluate test\n",
      "tv evaluate valid\n",
      "tv evaluate test\n",
      "NN evaluate valid\n",
      "                1p    2p    3p    2i    3i    pi    ip    2u    up   2in   3in   inp   pin   pni  epfo mean  Neg mean\n",
      "epoch metric                                                                                                         \n",
      "79    mrr    43.56 10.90  8.74 31.37 46.40 17.07 13.95 11.12  8.42  6.48  9.67  7.91  3.55  4.10      21.28      6.34\n",
      "84    mrr    43.60 10.85  8.76 31.43 46.29 17.31 13.97 11.16  8.41  6.49  9.65  7.91  3.55  4.15      21.31      6.35\n",
      "89    mrr    43.62 10.79  8.72 31.45 46.28 17.31 13.94 11.13  8.41  6.47  9.62  7.77  3.57  4.07      21.29      6.30\n",
      "94    mrr    43.56 10.82  8.74 31.47 46.44 17.33 13.99 11.10  8.41  6.46  9.64  7.79  3.61  4.09      21.32      6.32\n",
      "99    mrr    43.56 10.81  8.86 31.53 46.54 17.27 14.00 11.18  8.40  6.43  9.66  7.82  3.60  4.13      21.35      6.33\n",
      "NN evaluate test\n",
      "                1p    2p    3p    2i    3i    pi    ip    2u    up   2in   3in   inp   pin   pni  epfo mean  Neg mean\n",
      "epoch metric                                                                                                         \n",
      "79    mrr    45.23 13.08 10.17 34.13 47.64 19.95 17.88 13.62 10.09  8.72 11.89  7.35  4.15  5.47      23.53      7.52\n",
      "84    mrr    45.18 13.15 10.16 34.09 47.87 20.00 17.88 13.57 10.12  8.74 11.88  7.40  4.12  5.45      23.56      7.52\n",
      "89    mrr    45.22 13.11 10.23 34.14 47.81 19.97 17.92 13.62 10.07  8.67 11.91  7.32  4.20  5.36      23.57      7.49\n",
      "94    mrr    45.23 13.07 10.14 34.18 47.82 20.04 17.88 13.51 10.07  8.66 11.89  7.39  4.16  5.44      23.55      7.51\n",
      "99    mrr    45.19 13.14 10.24 34.27 47.85 20.07 17.94 13.55 10.07  8.67 11.93  7.35  4.13  5.31      23.59      7.48\n"
     ]
    }
   ],
   "source": [
    "show_trajectory('log/FB15k-237/lmpnn-complex1k-num_layers_2/output.log')"
   ]
  },
  {
   "cell_type": "code",
   "execution_count": 31,
   "metadata": {},
   "outputs": [
    {
     "name": "stdout",
     "output_type": "stream",
     "text": [
      "CQD evaluate valid\n",
      "CQD evaluate test\n",
      "tv evaluate valid\n",
      "tv evaluate test\n",
      "NN evaluate valid\n",
      "                1p    2p    3p    2i    3i    pi    ip    2u    up   2in   3in   inp   pin   pni  epfo mean  Neg mean\n",
      "epoch metric                                                                                                         \n",
      "79    mrr    43.93 10.94  8.54 31.50 46.53 20.30 14.09 11.29  8.41  6.38  9.78  7.79  4.05  4.19      21.73      6.44\n",
      "84    mrr    43.94 10.95  8.61 31.53 46.53 20.16 14.07 11.28  8.48  6.38  9.80  7.74  4.04  4.16      21.73      6.43\n",
      "89    mrr    43.93 10.96  8.57 31.54 46.54 20.29 14.14 11.28  8.46  6.38  9.81  7.86  4.00  4.16      21.75      6.44\n",
      "94    mrr    43.95 10.91  8.54 31.52 46.61 20.35 14.15 11.29  8.42  6.37  9.83  7.80  3.99  4.20      21.75      6.44\n",
      "99    mrr    43.91 10.95  8.53 31.59 46.55 20.35 14.11 11.32  8.48  6.40  9.85  7.80  4.06  4.27      21.75      6.48\n",
      "NN evaluate test\n",
      "                1p    2p    3p    2i    3i    pi    ip    2u    up   2in   3in   inp   pin   pni  epfo mean  Neg mean\n",
      "epoch metric                                                                                                         \n",
      "79    mrr    45.54 12.95  9.96 34.31 47.85 23.12 17.90 13.88 10.13  8.70 12.18  7.24  4.52  5.71      23.96      7.67\n",
      "84    mrr    45.52 12.84 10.01 34.25 47.88 23.11 17.80 13.96 10.09  8.67 12.06  7.26  4.50  5.60      23.94      7.62\n",
      "89    mrr    45.48 13.01  9.95 34.22 47.90 23.19 17.89 13.89 10.12  8.69 12.14  7.28  4.54  5.63      23.96      7.66\n",
      "94    mrr    45.51 13.03 10.01 34.30 47.93 23.25 17.98 13.98 10.15  8.73 12.18  7.25  4.54  5.67      24.02      7.67\n",
      "99    mrr    45.51 12.99 10.06 34.36 48.02 23.28 17.95 13.94 10.11  8.73 12.11  7.25  4.53  5.63      24.02      7.65\n"
     ]
    }
   ],
   "source": [
    "show_trajectory('log/FB15k-237/lmpnn-complex1k-num_layers_1-hidden_8192/output.log')"
   ]
  },
  {
   "cell_type": "markdown",
   "metadata": {},
   "source": [
    "# MLP parameters"
   ]
  },
  {
   "cell_type": "code",
   "execution_count": 32,
   "metadata": {},
   "outputs": [
    {
     "name": "stdout",
     "output_type": "stream",
     "text": [
      "CQD evaluate valid\n",
      "CQD evaluate test\n",
      "tv evaluate valid\n",
      "tv evaluate test\n",
      "NN evaluate valid\n",
      "                1p    2p    3p    2i    3i    pi    ip    2u    up   2in   3in   inp   pin   pni  epfo mean  Neg mean\n",
      "epoch metric                                                                                                         \n",
      "79    mrr    43.00  6.37  3.69 29.90 43.00 15.10 11.13 10.59  6.27  4.20  9.47  1.31  0.85  0.76      18.78      3.32\n",
      "84    mrr    43.00  6.37  3.70 29.89 43.00 15.11 11.13 10.59  6.27  4.20  9.47  1.31  0.85  0.76      18.78      3.32\n",
      "89    mrr    43.00  6.37  3.70 29.89 43.00 15.11 11.13 10.59  6.27  4.20  9.47  1.31  0.85  0.76      18.78      3.32\n",
      "94    mrr    43.00  6.37  3.69 29.89 43.00 15.11 11.13 10.59  6.27  4.20  9.47  1.31  0.85  0.77      18.78      3.32\n",
      "99    mrr    43.00  6.37  3.69 29.90 43.00 15.10 11.13 10.59  6.26  4.20  9.47  1.31  0.85  0.76      18.78      3.32\n",
      "NN evaluate test\n",
      "                1p    2p    3p    2i    3i    pi    ip    2u    up   2in   3in   inp   pin   pni  epfo mean  Neg mean\n",
      "epoch metric                                                                                                         \n",
      "79    mrr    44.67  7.41  4.23 32.12 44.37 17.17 14.37 13.43  7.62  5.86 11.42  1.43  0.84  1.02      20.60      4.11\n",
      "84    mrr    44.67  7.41  4.23 32.12 44.37 17.18 14.37 13.43  7.61  5.86 11.42  1.43  0.84  1.02      20.60      4.12\n",
      "89    mrr    44.67  7.41  4.23 32.12 44.37 17.18 14.37 13.43  7.61  5.86 11.42  1.43  0.84  1.02      20.60      4.12\n",
      "94    mrr    44.67  7.41  4.23 32.12 44.37 17.18 14.37 13.43  7.61  5.86 11.42  1.43  0.84  1.02      20.60      4.12\n",
      "99    mrr    44.67  7.40  4.22 32.11 44.37 17.18 14.37 13.43  7.61  5.86 11.42  1.43  0.84  1.02      20.60      4.11\n"
     ]
    }
   ],
   "source": [
    "show_trajectory('log/FB15k-237/lmpnn-complex1k-num_layers_0/output.log')"
   ]
  },
  {
   "cell_type": "code",
   "execution_count": 33,
   "metadata": {},
   "outputs": [
    {
     "name": "stdout",
     "output_type": "stream",
     "text": [
      "CQD evaluate valid\n",
      "CQD evaluate test\n",
      "tv evaluate valid\n",
      "tv evaluate test\n",
      "NN evaluate valid\n",
      "                1p    2p    3p    2i    3i    pi    ip    2u    up   2in   3in   inp   pin   pni  epfo mean  Neg mean\n",
      "epoch metric                                                                                                         \n",
      "79    mrr    43.89 10.66  8.40 31.02 45.55 19.32 13.67 11.29  8.36  6.51  9.48  7.56  4.00  4.13      21.35      6.34\n",
      "84    mrr    43.88 10.79  8.44 31.13 45.60 19.30 13.64 11.29  8.43  6.52  9.51  7.69  4.00  4.09      21.39      6.36\n",
      "89    mrr    43.83 10.69  8.41 31.06 45.50 19.39 13.64 11.31  8.39  6.49  9.53  7.65  3.98  4.12      21.36      6.35\n",
      "94    mrr    43.91 10.66  8.43 31.21 45.68 19.37 13.67 11.31  8.36  6.49  9.56  7.57  3.99  4.16      21.40      6.35\n",
      "99    mrr    43.86 10.73  8.40 31.10 45.61 19.49 13.58 11.29  8.43  6.47  9.51  7.60  3.98  4.12      21.39      6.34\n",
      "NN evaluate test\n",
      "                1p    2p    3p    2i    3i    pi    ip    2u    up   2in   3in   inp   pin   pni  epfo mean  Neg mean\n",
      "epoch metric                                                                                                         \n",
      "79    mrr    45.62 12.73  9.82 33.58 47.24 22.17 17.21 14.12 10.07  8.79 11.57  7.15  4.43  5.46      23.62      7.48\n",
      "84    mrr    45.56 12.75  9.85 33.52 47.20 22.20 17.18 14.16 10.10  8.75 11.54  7.13  4.47  5.45      23.61      7.47\n",
      "89    mrr    45.54 12.70  9.87 33.51 47.21 22.23 17.19 14.16 10.05  8.79 11.63  7.16  4.39  5.41      23.61      7.48\n",
      "94    mrr    45.58 12.82  9.87 33.57 47.30 22.35 17.28 14.08 10.14  8.86 11.60  7.14  4.52  5.45      23.67      7.51\n",
      "99    mrr    45.51 12.80  9.80 33.61 47.42 22.24 17.22 14.18 10.15  8.81 11.65  7.10  4.47  5.43      23.66      7.49\n"
     ]
    }
   ],
   "source": [
    "show_trajectory('log/FB15k-237/lmpnn-complex1k-num_layers_1/output.log')"
   ]
  },
  {
   "cell_type": "code",
   "execution_count": 34,
   "metadata": {},
   "outputs": [
    {
     "name": "stdout",
     "output_type": "stream",
     "text": [
      "CQD evaluate valid\n",
      "CQD evaluate test\n",
      "tv evaluate valid\n",
      "tv evaluate test\n",
      "NN evaluate valid\n",
      "                1p    2p    3p    2i    3i    pi    ip    2u    up   2in   3in   inp   pin   pni  epfo mean  Neg mean\n",
      "epoch metric                                                                                                         \n",
      "79    mrr    43.93 10.94  8.54 31.50 46.53 20.30 14.09 11.29  8.41  6.38  9.78  7.79  4.05  4.19      21.73      6.44\n",
      "84    mrr    43.94 10.95  8.61 31.53 46.53 20.16 14.07 11.28  8.48  6.38  9.80  7.74  4.04  4.16      21.73      6.43\n",
      "89    mrr    43.93 10.96  8.57 31.54 46.54 20.29 14.14 11.28  8.46  6.38  9.81  7.86  4.00  4.16      21.75      6.44\n",
      "94    mrr    43.95 10.91  8.54 31.52 46.61 20.35 14.15 11.29  8.42  6.37  9.83  7.80  3.99  4.20      21.75      6.44\n",
      "99    mrr    43.91 10.95  8.53 31.59 46.55 20.35 14.11 11.32  8.48  6.40  9.85  7.80  4.06  4.27      21.75      6.48\n",
      "NN evaluate test\n",
      "                1p    2p    3p    2i    3i    pi    ip    2u    up   2in   3in   inp   pin   pni  epfo mean  Neg mean\n",
      "epoch metric                                                                                                         \n",
      "79    mrr    45.54 12.95  9.96 34.31 47.85 23.12 17.90 13.88 10.13  8.70 12.18  7.24  4.52  5.71      23.96      7.67\n",
      "84    mrr    45.52 12.84 10.01 34.25 47.88 23.11 17.80 13.96 10.09  8.67 12.06  7.26  4.50  5.60      23.94      7.62\n",
      "89    mrr    45.48 13.01  9.95 34.22 47.90 23.19 17.89 13.89 10.12  8.69 12.14  7.28  4.54  5.63      23.96      7.66\n",
      "94    mrr    45.51 13.03 10.01 34.30 47.93 23.25 17.98 13.98 10.15  8.73 12.18  7.25  4.54  5.67      24.02      7.67\n",
      "99    mrr    45.51 12.99 10.06 34.36 48.02 23.28 17.95 13.94 10.11  8.73 12.11  7.25  4.53  5.63      24.02      7.65\n"
     ]
    }
   ],
   "source": [
    "show_trajectory('log/FB15k-237/lmpnn-complex1k-num_layers_1-hidden_8192/output.log')"
   ]
  },
  {
   "cell_type": "code",
   "execution_count": 35,
   "metadata": {},
   "outputs": [
    {
     "name": "stdout",
     "output_type": "stream",
     "text": [
      "CQD evaluate valid\n",
      "CQD evaluate test\n",
      "tv evaluate valid\n",
      "tv evaluate test\n",
      "NN evaluate valid\n",
      "                1p    2p    3p    2i    3i    pi    ip    2u    up   2in   3in   inp   pin   pni  epfo mean  Neg mean\n",
      "epoch metric                                                                                                         \n",
      "79    mrr    43.56 10.90  8.74 31.37 46.40 17.07 13.95 11.12  8.42  6.48  9.67  7.91  3.55  4.10      21.28      6.34\n",
      "84    mrr    43.60 10.85  8.76 31.43 46.29 17.31 13.97 11.16  8.41  6.49  9.65  7.91  3.55  4.15      21.31      6.35\n",
      "89    mrr    43.62 10.79  8.72 31.45 46.28 17.31 13.94 11.13  8.41  6.47  9.62  7.77  3.57  4.07      21.29      6.30\n",
      "94    mrr    43.56 10.82  8.74 31.47 46.44 17.33 13.99 11.10  8.41  6.46  9.64  7.79  3.61  4.09      21.32      6.32\n",
      "99    mrr    43.56 10.81  8.86 31.53 46.54 17.27 14.00 11.18  8.40  6.43  9.66  7.82  3.60  4.13      21.35      6.33\n",
      "NN evaluate test\n",
      "                1p    2p    3p    2i    3i    pi    ip    2u    up   2in   3in   inp   pin   pni  epfo mean  Neg mean\n",
      "epoch metric                                                                                                         \n",
      "79    mrr    45.23 13.08 10.17 34.13 47.64 19.95 17.88 13.62 10.09  8.72 11.89  7.35  4.15  5.47      23.53      7.52\n",
      "84    mrr    45.18 13.15 10.16 34.09 47.87 20.00 17.88 13.57 10.12  8.74 11.88  7.40  4.12  5.45      23.56      7.52\n",
      "89    mrr    45.22 13.11 10.23 34.14 47.81 19.97 17.92 13.62 10.07  8.67 11.91  7.32  4.20  5.36      23.57      7.49\n",
      "94    mrr    45.23 13.07 10.14 34.18 47.82 20.04 17.88 13.51 10.07  8.66 11.89  7.39  4.16  5.44      23.55      7.51\n",
      "99    mrr    45.19 13.14 10.24 34.27 47.85 20.07 17.94 13.55 10.07  8.67 11.93  7.35  4.13  5.31      23.59      7.48\n"
     ]
    }
   ],
   "source": [
    "show_trajectory('log/FB15k-237/lmpnn-complex1k-num_layers_2/output.log')"
   ]
  },
  {
   "cell_type": "code",
   "execution_count": 36,
   "metadata": {},
   "outputs": [
    {
     "name": "stdout",
     "output_type": "stream",
     "text": [
      "CQD evaluate valid\n",
      "CQD evaluate test\n",
      "tv evaluate valid\n",
      "tv evaluate test\n",
      "NN evaluate valid\n",
      "                1p    2p    3p    2i    3i    pi    ip    2u    up   2in   3in   inp   pin   pni  epfo mean  Neg mean\n",
      "epoch metric                                                                                                         \n",
      "79    mrr    43.33 11.04  8.74 31.64 47.09 16.53 14.73 10.91  8.37  6.44  9.94  7.91  3.58  4.27      21.37      6.43\n",
      "84    mrr    43.29 11.02  8.68 31.69 47.12 16.54 14.79 10.93  8.40  6.46 10.05  7.85  3.58  4.23      21.38      6.43\n",
      "89    mrr    43.37 11.02  8.64 31.69 47.16 16.54 14.71 10.93  8.31  6.43  9.99  7.93  3.60  4.26      21.38      6.44\n",
      "94    mrr    43.28 10.94  8.64 31.65 47.25 16.54 14.77 10.95  8.35  6.44 10.10  7.90  3.56  4.22      21.38      6.44\n",
      "99    mrr    43.33 10.90  8.67 31.82 47.10 16.61 14.67 10.95  8.36  6.41 10.04  7.92  3.58  4.19      21.38      6.43\n",
      "NN evaluate test\n",
      "                1p    2p    3p    2i    3i    pi    ip    2u    up   2in   3in   inp   pin   pni  epfo mean  Neg mean\n",
      "epoch metric                                                                                                         \n",
      "79    mrr    44.70 13.43 10.30 34.49 48.22 19.67 18.73 13.13 10.27  8.84 12.42  7.64  4.16  5.53      23.66      7.72\n",
      "84    mrr    44.70 13.57 10.31 34.59 48.21 19.69 18.69 13.23 10.23  8.86 12.45  7.61  4.19  5.50      23.69      7.72\n",
      "89    mrr    44.71 13.43 10.22 34.67 48.44 19.69 18.64 13.14 10.19  8.89 12.39  7.55  4.16  5.63      23.68      7.72\n",
      "94    mrr    44.68 13.48 10.22 34.45 48.39 19.59 18.70 13.14 10.17  8.95 12.59  7.60  4.18  5.57      23.65      7.78\n",
      "99    mrr    44.70 13.47 10.24 34.42 48.52 19.61 18.61 13.16 10.17  8.88 12.45  7.62  4.18  5.49      23.66      7.72\n"
     ]
    }
   ],
   "source": [
    "show_trajectory('log/FB15k-237/lmpnn-complex1k-num_layers_2-hidden_8192/output.log')"
   ]
  },
  {
   "cell_type": "markdown",
   "metadata": {},
   "source": [
    "# without relational inference"
   ]
  },
  {
   "cell_type": "code",
   "execution_count": 37,
   "metadata": {},
   "outputs": [
    {
     "name": "stdout",
     "output_type": "stream",
     "text": [
      "CQD evaluate valid\n",
      "CQD evaluate test\n",
      "tv evaluate valid\n",
      "tv evaluate test\n",
      "NN evaluate valid\n",
      "                1p    2p    3p    2i    3i    pi    ip    2u    up   2in   3in   inp   pin   pni  epfo mean  Neg mean\n",
      "epoch metric                                                                                                         \n",
      "79    mrr    29.34  5.79  5.74  5.85  6.79  5.18  5.11  6.43  5.47  2.42  2.51  6.07  2.22  1.48       8.41      2.94\n",
      "84    mrr    29.35  5.77  5.74  5.81  6.81  5.16  5.14  6.37  5.42  2.40  2.53  6.04  2.19  1.51       8.40      2.93\n",
      "89    mrr    29.34  5.80  5.77  5.74  6.78  5.15  5.15  6.37  5.45  2.41  2.49  6.06  2.21  1.53       8.39      2.94\n",
      "94    mrr    29.33  5.78  5.79  5.81  6.81  5.17  5.12  6.40  5.42  2.43  2.50  6.07  2.17  1.49       8.40      2.93\n",
      "99    mrr    29.38  5.80  5.80  5.79  6.81  5.22  5.18  6.37  5.44  2.40  2.50  6.06  2.20  1.49       8.42      2.93\n",
      "NN evaluate test\n",
      "                1p    2p    3p    2i    3i    pi    ip    2u    up   2in   3in   inp   pin   pni  epfo mean  Neg mean\n",
      "epoch metric                                                                                                         \n",
      "79    mrr    30.47  6.80  6.97  7.77  7.87  6.26  6.39  8.41  6.21  2.96  2.76  5.57  2.33  1.66       9.68      3.06\n",
      "84    mrr    30.44  6.79  6.98  7.76  7.89  6.21  6.39  8.44  6.18  3.01  2.79  5.55  2.30  1.64       9.68      3.06\n",
      "89    mrr    30.44  6.83  6.93  7.68  7.83  6.24  6.38  8.38  6.23  2.98  2.76  5.57  2.34  1.64       9.66      3.06\n",
      "94    mrr    30.47  6.85  7.04  7.77  7.92  6.22  6.34  8.42  6.16  3.01  2.76  5.56  2.30  1.63       9.69      3.05\n",
      "99    mrr    30.49  6.84  6.91  7.76  7.84  6.22  6.44  8.37  6.25  2.96  2.78  5.58  2.34  1.67       9.68      3.07\n"
     ]
    }
   ],
   "source": [
    "show_trajectory(\"log/FB15k-237/lmpnn-complex1k-without_relational_inference/output.log\", metrics=['mrr'])"
   ]
  },
  {
   "cell_type": "code",
   "execution_count": 38,
   "metadata": {},
   "outputs": [
    {
     "name": "stdout",
     "output_type": "stream",
     "text": [
      "CQD evaluate valid\n",
      "CQD evaluate test\n",
      "tv evaluate valid\n",
      "tv evaluate test\n",
      "NN evaluate valid\n",
      "                1p    2p    3p    2i    3i    pi    ip    2u    up   2in   3in   inp   pin   pni  epfo mean  Neg mean\n",
      "epoch metric                                                                                                         \n",
      "79    mrr    71.03 21.93 17.06 48.82 63.46 31.22 26.90 23.58 18.45 14.72 13.27 10.72  6.58 10.30      35.83     11.12\n",
      "84    mrr    70.97 21.90 17.07 48.76 63.40 31.16 26.87 23.60 18.49 14.68 13.25 10.71  6.58 10.28      35.80     11.10\n",
      "89    mrr    71.02 21.89 17.12 48.82 63.51 31.31 26.86 23.63 18.50 14.72 13.31 10.69  6.64 10.27      35.85     11.12\n",
      "94    mrr    71.02 21.93 17.10 48.82 63.54 31.27 26.90 23.65 18.50 14.65 13.21 10.74  6.62 10.33      35.86     11.11\n",
      "99    mrr    71.00 21.90 17.06 48.77 63.43 31.29 26.87 23.64 18.43 14.66 13.24 10.70  6.60 10.33      35.82     11.10\n",
      "NN evaluate test\n",
      "                1p    2p    3p    2i    3i    pi    ip    2u    up   2in   3in   inp   pin   pni  epfo mean  Neg mean\n",
      "epoch metric                                                                                                         \n",
      "79    mrr    77.62 31.67 24.25 60.93 70.08 40.06 38.15 34.52 26.72 24.95 24.18 12.25  9.02 16.73      44.89     17.43\n",
      "84    mrr    77.53 31.60 24.21 60.96 70.04 40.05 38.07 34.39 26.64 24.87 24.09 12.24  9.07 16.62      44.83     17.38\n",
      "89    mrr    77.55 31.81 24.34 60.99 70.10 40.18 38.33 34.48 26.79 24.86 24.11 12.23  9.07 16.66      44.95     17.39\n",
      "94    mrr    77.59 31.70 24.25 61.00 70.03 40.11 38.24 34.42 26.80 24.79 24.12 12.25  9.16 16.71      44.90     17.40\n",
      "99    mrr    77.54 31.72 24.28 60.85 69.97 40.03 38.23 34.39 26.73 24.82 24.05 12.20  9.04 16.59      44.86     17.34\n"
     ]
    }
   ],
   "source": [
    "show_trajectory(\"log/FB15k/lmpnn-complex1k-default/output.log\", metrics=['mrr'])"
   ]
  },
  {
   "cell_type": "code",
   "execution_count": 39,
   "metadata": {},
   "outputs": [
    {
     "name": "stdout",
     "output_type": "stream",
     "text": [
      "CQD evaluate valid\n",
      "CQD evaluate test\n",
      "tv evaluate valid\n",
      "tv evaluate test\n",
      "NN evaluate valid\n",
      "                1p    2p    3p    2i    3i    pi    ip    2u    up   2in   3in   inp   pin   pni  epfo mean  Neg mean\n",
      "epoch metric                                                                                                         \n",
      "79    mrr    74.70 22.52 17.64 54.46 68.16 28.69 24.70 25.14 19.90 16.32 15.97 10.09  8.11 11.70      37.32     12.44\n",
      "84    mrr    74.89 22.57 17.68 54.35 68.32 28.96 24.78 25.02 20.06 16.33 15.88 10.16  8.04 11.79      37.40     12.44\n",
      "89    mrr    74.95 22.58 17.74 54.55 68.43 29.17 24.71 25.13 20.00 16.28 16.01 10.20  8.08 11.82      37.47     12.48\n",
      "94    mrr    74.99 22.60 17.73 54.63 68.35 29.11 24.60 25.16 20.03 16.38 15.88 10.16  8.09 11.78      37.47     12.46\n",
      "99    mrr    75.05 22.57 17.75 54.66 68.34 29.19 24.83 25.14 20.01 16.46 15.88 10.32  8.23 11.76      37.50     12.53\n",
      "NN evaluate test\n",
      "                1p    2p    3p    2i    3i    pi    ip    2u    up   2in   3in   inp   pin   pni  epfo mean  Neg mean\n",
      "epoch metric                                                                                                         \n",
      "79    mrr    82.85 33.15 25.03 70.28 75.92 35.58 34.89 35.90 30.36 24.04 25.46 11.65  9.00 14.76      47.11     16.98\n",
      "84    mrr    83.04 33.29 25.07 70.30 75.93 35.98 34.90 35.95 30.41 24.00 25.48 11.80  9.06 14.70      47.21     17.01\n",
      "89    mrr    83.13 33.36 25.13 70.38 76.05 35.98 35.03 35.92 30.57 24.03 25.56 11.74  9.03 14.61      47.28     16.99\n",
      "94    mrr    83.29 33.45 25.36 70.68 76.32 35.87 34.97 35.91 30.53 24.05 25.59 11.81  9.07 14.65      47.38     17.03\n",
      "99    mrr    83.34 33.38 25.12 70.51 76.34 36.16 34.88 35.99 30.51 24.20 25.61 11.93  9.10 14.63      47.36     17.09\n"
     ]
    }
   ],
   "source": [
    "show_trajectory(\"log/FB15k/lmpnn-complex1k-temp_0.01/output.log\", metrics=['mrr'])"
   ]
  },
  {
   "cell_type": "code",
   "execution_count": 40,
   "metadata": {},
   "outputs": [
    {
     "name": "stdout",
     "output_type": "stream",
     "text": [
      "******************************\n",
      "CQD evaluate valid\n",
      "CQD evaluate test\n",
      "tv evaluate valid\n",
      "tv evaluate test\n",
      "NN evaluate valid\n",
      "                1p    2p    3p    2i    3i    pi    ip    2u    up   2in   3in   inp   pin   pni  epfo mean  Neg mean\n",
      "epoch metric                                                                                                         \n",
      "79    mrr    75.85 24.57 18.96 53.24 68.37 34.07 28.54 25.45 20.04 17.15 15.86 11.65  7.57 11.12      38.79     12.67\n",
      "84    mrr    75.89 24.62 18.88 53.27 68.43 34.27 28.65 25.52 20.08 17.16 15.88 11.65  7.64 11.16      38.85     12.70\n",
      "89    mrr    75.95 24.64 18.99 53.38 68.55 34.19 28.65 25.54 20.05 17.13 15.93 11.71  7.64 11.16      38.88     12.71\n",
      "94    mrr    75.94 24.64 18.99 53.31 68.54 34.26 28.69 25.46 20.07 17.13 15.95 11.66  7.61 11.06      38.88     12.68\n",
      "99    mrr    75.98 24.62 18.97 53.37 68.61 34.23 28.69 25.48 20.10 17.12 15.91 11.69  7.58 11.10      38.89     12.68\n",
      "NN evaluate test\n",
      "                1p    2p    3p    2i    3i    pi    ip    2u    up   2in   3in   inp   pin   pni  epfo mean  Neg mean\n",
      "epoch metric                                                                                                         \n",
      "79    mrr    84.23 36.57 26.86 67.65 75.77 44.92 40.89 36.58 30.35 28.30 28.29 13.88  9.82 16.62      49.31     19.38\n",
      "84    mrr    84.26 36.66 26.93 67.76 75.76 45.21 40.91 36.72 30.40 28.28 28.36 13.93  9.85 16.62      49.40     19.41\n",
      "89    mrr    84.34 36.59 26.85 67.93 75.87 44.98 40.91 36.88 30.37 28.35 28.41 13.90  9.77 16.63      49.41     19.41\n",
      "94    mrr    84.36 36.63 26.91 67.85 75.86 45.14 40.98 36.64 30.35 28.26 28.32 13.86  9.85 16.57      49.41     19.37\n",
      "99    mrr    84.42 36.55 26.76 67.69 75.87 45.27 40.99 36.67 30.34 28.29 28.34 13.78  9.89 16.60      49.40     19.38\n"
     ]
    }
   ],
   "source": [
    "print(\"***\"*10)\n",
    "show_trajectory(\"log/FB15k/lmpnn-complex1k-temp_0.05/output.log\", metrics=['mrr'])"
   ]
  },
  {
   "cell_type": "code",
   "execution_count": 41,
   "metadata": {},
   "outputs": [
    {
     "name": "stdout",
     "output_type": "stream",
     "text": [
      "CQD evaluate valid\n",
      "CQD evaluate test\n",
      "tv evaluate valid\n",
      "tv evaluate test\n",
      "NN evaluate valid\n",
      "                1p    2p    3p    2i    3i    pi    ip    2u    up   2in   3in   inp   pin   pni  epfo mean  Neg mean\n",
      "epoch metric                                                                                                         \n",
      "19    mrr    74.31 22.75 17.59 51.69 66.57 28.59 26.50 25.09 19.36 17.14 15.15 10.90  6.85 10.59      36.94     12.13\n",
      "24    mrr    74.64 23.11 17.75 52.05 66.67 29.21 27.10 25.08 19.85 16.97 15.29 11.04  6.99 10.87      37.27     12.23\n",
      "89    mrr    76.32 25.96 19.96 54.07 69.06 36.12 30.24 25.80 20.83 17.74 16.57 12.40  7.94 11.43      39.82     13.22\n",
      "94    mrr    76.34 26.03 19.97 53.98 69.03 36.13 30.28 25.86 20.85 17.71 16.58 12.34  7.93 11.44      39.83     13.20\n",
      "99    mrr    76.40 26.09 19.99 54.07 69.21 36.43 30.31 25.84 20.92 17.74 16.57 12.38  7.97 11.45      39.92     13.22\n",
      "NN evaluate test\n",
      "                1p    2p    3p    2i    3i    pi    ip    2u    up   2in   3in   inp   pin   pni  epfo mean  Neg mean\n",
      "epoch metric                                                                                                         \n",
      "19    mrr    82.10 33.48 25.56 65.55 73.63 36.79 38.16 35.96 29.35 28.64 27.87 13.10  8.79 15.36      46.73     18.75\n",
      "24    mrr    82.45 33.92 25.59 65.54 74.06 38.29 38.21 36.05 29.31 28.68 27.85 13.24  8.84 15.79      47.05     18.88\n",
      "89    mrr    84.84 39.23 28.45 68.16 76.46 46.51 42.94 36.68 31.42 29.24 29.34 14.91 10.18 16.47      50.52     20.03\n",
      "94    mrr    84.92 39.16 28.61 68.08 76.55 46.59 42.93 36.72 31.50 29.19 29.34 14.76 10.15 16.41      50.56     19.97\n",
      "99    mrr    84.96 39.31 28.62 68.17 76.46 46.65 42.95 36.72 31.38 29.13 29.38 14.93 10.23 16.39      50.58     20.01\n"
     ]
    }
   ],
   "source": [
    "show_trajectory(\"log/FB15k/lmpnn-complex1k-temp_0.05-hidden_dim_8192/output.log\", metrics=['mrr'])"
   ]
  },
  {
   "cell_type": "code",
   "execution_count": 42,
   "metadata": {},
   "outputs": [
    {
     "name": "stdout",
     "output_type": "stream",
     "text": [
      "CQD evaluate valid\n",
      "CQD evaluate test\n",
      "tv evaluate valid\n",
      "tv evaluate test\n",
      "NN evaluate valid\n",
      "                1p    2p    3p    2i    3i    pi    ip    2u    up   2in   3in   inp   pin   pni  epfo mean  Neg mean\n",
      "epoch metric                                                                                                         \n",
      "79    mrr    67.64 19.94 15.68 46.47 60.85 28.32 25.63 22.14 17.30 12.71 11.78  9.32  5.72  9.06      33.77      9.72\n",
      "84    mrr    67.63 19.91 15.73 46.45 60.77 28.33 25.64 22.10 17.28 12.70 11.74  9.28  5.75  9.10      33.76      9.72\n",
      "89    mrr    67.62 19.88 15.69 46.40 60.79 28.26 25.61 22.06 17.27 12.68 11.76  9.25  5.76  9.12      33.73      9.71\n",
      "94    mrr    67.60 19.86 15.71 46.45 60.87 28.28 25.63 22.05 17.28 12.63 11.78  9.27  5.73  9.10      33.75      9.70\n",
      "99    mrr    67.59 19.85 15.64 46.44 60.85 28.27 25.63 22.07 17.28 12.67 11.74  9.26  5.72  9.12      33.74      9.70\n",
      "NN evaluate test\n",
      "                1p    2p    3p    2i    3i    pi    ip    2u    up   2in   3in   inp   pin   pni  epfo mean  Neg mean\n",
      "epoch metric                                                                                                         \n",
      "79    mrr    73.35 27.38 21.21 57.03 66.08 34.85 34.02 32.36 23.63 21.21 21.18 10.67  7.60 14.74      41.10     15.08\n",
      "84    mrr    73.32 27.38 21.17 57.10 66.09 34.90 34.06 32.35 23.70 21.19 21.20 10.69  7.60 14.75      41.12     15.09\n",
      "89    mrr    73.34 27.37 21.19 57.09 66.11 34.87 33.96 32.28 23.66 21.13 21.14 10.64  7.59 14.84      41.10     15.07\n",
      "94    mrr    73.30 27.42 21.21 56.98 66.19 34.95 34.04 32.32 23.70 21.04 21.12 10.63  7.56 14.76      41.12     15.02\n",
      "99    mrr    73.30 27.38 21.19 57.03 66.06 34.87 33.87 32.25 23.61 21.04 21.15 10.66  7.52 14.66      41.06     15.01\n"
     ]
    }
   ],
   "source": [
    "show_trajectory(\"log/FB15k/lmpnn-complex1k-temp_0.2/output.log\", metrics=['mrr'])"
   ]
  },
  {
   "cell_type": "code",
   "execution_count": 43,
   "metadata": {},
   "outputs": [
    {
     "name": "stdout",
     "output_type": "stream",
     "text": [
      "CQD evaluate valid\n",
      "CQD evaluate test\n",
      "tv evaluate valid\n",
      "tv evaluate test\n",
      "NN evaluate valid\n",
      "                1p    2p    3p    2i    3i    pi    ip    2u    up   2in   3in   inp   pin   pni  epfo mean  Neg mean\n",
      "epoch metric                                                                                                         \n",
      "79    mrr    58.03 18.94 16.33 37.03 50.59 25.33 23.76 15.47 12.92  7.48 10.56 11.59  3.92  4.43      28.71      7.60\n",
      "84    mrr    58.00 18.93 16.39 37.00 50.65 25.42 23.81 15.52 12.96  7.45 10.58 11.56  3.91  4.47      28.74      7.59\n",
      "89    mrr    58.02 19.05 16.43 37.06 50.72 25.43 23.77 15.47 12.90  7.54 10.53 11.63  3.91  4.46      28.76      7.62\n",
      "94    mrr    58.02 19.01 16.35 36.99 50.63 25.43 23.91 15.46 12.96  7.47 10.53 11.52  3.85  4.38      28.75      7.55\n",
      "99    mrr    58.01 19.05 16.39 37.06 50.81 25.53 23.85 15.51 12.94  7.48 10.54 11.59  3.90  4.44      28.79      7.59\n",
      "NN evaluate test\n",
      "                1p    2p    3p    2i    3i    pi    ip    2u    up   2in   3in   inp   pin   pni  epfo mean  Neg mean\n",
      "epoch metric                                                                                                         \n",
      "79    mrr    59.99 21.27 17.11 39.68 48.33 27.57 24.30 17.16 15.57  7.50 10.42 11.27  3.96  4.87      30.11      7.60\n",
      "84    mrr    59.97 21.35 17.24 39.60 48.36 27.61 24.41 17.12 15.62  7.50 10.37 11.23  3.99  4.87      30.14      7.59\n",
      "89    mrr    60.01 21.34 17.14 39.66 48.42 27.62 24.33 17.09 15.56  7.59 10.43 11.19  3.95  4.89      30.13      7.61\n",
      "94    mrr    59.97 21.32 17.07 39.72 48.34 27.66 24.38 17.10 15.61  7.54 10.39 11.13  3.95  4.79      30.13      7.56\n",
      "99    mrr    59.99 21.37 17.11 39.61 48.49 27.67 24.32 17.11 15.58  7.56 10.43 11.18  3.98  4.81      30.14      7.59\n"
     ]
    }
   ],
   "source": [
    "show_trajectory(\"log/nell/lmpgnn-complex1k-temp_0.2/output.log\", metrics=['mrr'])"
   ]
  },
  {
   "cell_type": "code",
   "execution_count": 44,
   "metadata": {},
   "outputs": [
    {
     "name": "stdout",
     "output_type": "stream",
     "text": [
      "******************************\n",
      "CQD evaluate valid\n",
      "CQD evaluate test\n",
      "tv evaluate valid\n",
      "tv evaluate test\n",
      "NN evaluate valid\n",
      "                1p    2p    3p    2i    3i    pi    ip    2u    up   2in   3in   inp   pin   pni  epfo mean  Neg mean\n",
      "epoch metric                                                                                                         \n",
      "79    mrr    58.51 20.02 17.36 37.72 52.65 26.29 24.36 15.78 13.27  7.96 11.01 12.91  4.08  4.57      29.55      8.10\n",
      "84    mrr    58.50 20.08 17.47 37.74 52.80 26.38 24.44 15.82 13.31  7.99 11.07 13.01  4.08  4.56      29.62      8.14\n",
      "89    mrr    58.54 20.09 17.57 37.76 52.73 26.28 24.48 15.80 13.37  7.98 10.95 13.00  4.05  4.62      29.63      8.12\n",
      "94    mrr    58.49 20.09 17.47 37.85 52.81 26.46 24.55 15.83 13.40  7.97 11.08 12.91  4.06  4.58      29.66      8.12\n",
      "99    mrr    58.51 20.04 17.34 37.80 52.89 26.40 24.36 15.79 13.32  7.97 11.03 13.07  4.07  4.53      29.60      8.14\n",
      "NN evaluate test\n",
      "                1p    2p    3p    2i    3i    pi    ip    2u    up   2in   3in   inp   pin   pni  epfo mean  Neg mean\n",
      "epoch metric                                                                                                         \n",
      "79    mrr    60.62 22.01 17.54 40.10 50.27 28.29 24.81 17.24 15.73  8.50 10.85 12.14  3.90  4.75      30.74      8.03\n",
      "84    mrr    60.61 22.01 17.44 39.98 50.37 28.29 24.84 17.21 15.73  8.55 10.85 12.20  3.91  4.74      30.72      8.05\n",
      "89    mrr    60.70 22.04 17.49 40.13 50.32 28.32 24.82 17.20 15.75  8.47 10.87 12.12  3.92  4.77      30.75      8.03\n",
      "94    mrr    60.66 22.10 17.51 40.22 50.20 28.34 24.87 17.22 15.78  8.49 10.86 12.13  3.92  4.79      30.77      8.04\n",
      "99    mrr    60.65 22.05 17.48 40.07 50.28 28.37 24.86 17.18 15.74  8.49 10.78 12.17  3.91  4.76      30.74      8.02\n"
     ]
    }
   ],
   "source": [
    "print(\"*\"*30)\n",
    "show_trajectory(\"log/nell/lmpgnn-complex1k-default/output.log\", metrics=['mrr'])"
   ]
  },
  {
   "cell_type": "code",
   "execution_count": 45,
   "metadata": {},
   "outputs": [
    {
     "name": "stdout",
     "output_type": "stream",
     "text": [
      "******************************\n",
      "CQD evaluate valid\n",
      "CQD evaluate test\n",
      "tv evaluate valid\n",
      "tv evaluate test\n",
      "NN evaluate valid\n",
      "                1p    2p    3p    2i    3i    pi    ip    2u    up   2in   3in   inp   pin   pni  epfo mean  Neg mean\n",
      "epoch metric                                                                                                         \n",
      "79    mrr    58.48 20.29 17.58 38.08 53.72 27.22 25.16 15.83 13.33  7.79 10.82 13.02  4.05  4.45      29.97      8.03\n",
      "84    mrr    58.44 20.42 17.66 38.15 54.02 27.35 25.20 15.83 13.30  7.81 10.88 12.97  4.05  4.49      30.04      8.04\n",
      "89    mrr    58.50 20.38 17.75 38.05 53.65 27.29 25.12 15.80 13.30  7.78 10.81 13.06  4.04  4.44      29.98      8.02\n",
      "94    mrr    58.52 20.32 17.76 38.23 53.81 27.44 25.15 15.81 13.30  7.79 10.88 12.94  4.01  4.46      30.04      8.01\n",
      "99    mrr    58.43 20.31 17.71 38.31 53.91 27.40 25.22 15.79 13.34  7.75 10.91 13.01  4.08  4.53      30.05      8.06\n",
      "NN evaluate test\n",
      "                1p    2p    3p    2i    3i    pi    ip    2u    up   2in   3in   inp   pin   pni  epfo mean  Neg mean\n",
      "epoch metric                                                                                                         \n",
      "79    mrr    60.40 22.44 17.90 40.19 51.29 29.25 25.36 16.78 15.79  8.42 10.83 12.23  4.04  4.79      31.05      8.06\n",
      "84    mrr    60.33 22.32 17.84 40.36 51.33 29.24 25.30 16.83 15.78  8.49 10.87 12.32  4.05  4.87      31.04      8.12\n",
      "89    mrr    60.45 22.35 17.94 40.36 51.34 29.28 25.38 16.88 15.89  8.46 10.85 12.39  4.08  4.85      31.10      8.13\n",
      "94    mrr    60.41 22.37 17.83 40.33 51.40 29.20 25.35 16.90 15.87  8.42 10.85 12.29  4.08  4.81      31.07      8.09\n",
      "99    mrr    60.45 22.37 17.88 40.46 51.30 29.24 25.40 16.84 15.89  8.37 10.85 12.40  4.06  4.84      31.09      8.10\n"
     ]
    }
   ],
   "source": [
    "print(\"*\"*30)\n",
    "show_trajectory(\"log/nell/lmpgnn-complex1k-hidden_dim-8192/output.log\", metrics=['mrr'])"
   ]
  },
  {
   "cell_type": "code",
   "execution_count": 46,
   "metadata": {},
   "outputs": [
    {
     "name": "stdout",
     "output_type": "stream",
     "text": [
      "CQD evaluate valid\n",
      "CQD evaluate test\n",
      "tv evaluate valid\n",
      "tv evaluate test\n",
      "NN evaluate valid\n",
      "                1p    2p    3p    2i    3i    pi    ip    2u    up   2in   3in   inp   pin   pni  epfo mean  Neg mean\n",
      "epoch metric                                                                                                         \n",
      "79    mrr    57.54 19.77 16.96 37.42 53.45 23.77 23.60 15.18 13.31  7.81 11.72 12.68  4.21  4.76      29.00      8.23\n",
      "84    mrr    57.75 19.74 17.09 37.61 53.79 24.15 23.72 15.23 13.36  7.73 11.68 12.77  4.22  4.68      29.16      8.22\n",
      "89    mrr    57.65 19.84 17.22 37.62 53.86 23.87 23.58 15.15 13.22  7.80 11.75 12.75  4.18  4.73      29.11      8.24\n",
      "94    mrr    57.53 19.73 17.36 37.83 54.01 24.17 23.81 15.06 13.16  7.81 11.89 12.94  4.18  4.72      29.18      8.31\n",
      "99    mrr    57.64 19.84 17.25 37.62 54.07 24.12 23.65 15.14 13.17  7.69 11.76 12.85  4.25  4.78      29.17      8.27\n",
      "NN evaluate test\n",
      "                1p    2p    3p    2i    3i    pi    ip    2u    up   2in   3in   inp   pin   pni  epfo mean  Neg mean\n",
      "epoch metric                                                                                                         \n",
      "79    mrr    59.21 20.77 16.45 39.09 50.46 25.40 22.93 16.33 14.96  7.98 11.10 12.01  3.76  4.45      29.51      7.86\n",
      "84    mrr    59.43 20.78 16.45 39.19 50.64 25.69 23.05 16.34 15.18  7.94 11.10 12.10  3.82  4.54      29.64      7.90\n",
      "89    mrr    59.16 20.68 16.54 39.25 50.72 25.56 23.02 16.16 15.07  7.95 11.12 12.16  3.83  4.51      29.57      7.91\n",
      "94    mrr    59.15 20.61 16.69 39.27 50.82 25.73 23.02 16.19 15.01  8.02 11.20 12.17  3.82  4.53      29.61      7.95\n",
      "99    mrr    59.19 20.64 16.73 39.48 50.69 25.54 23.01 16.27 14.98  7.85 11.21 12.21  3.88  4.48      29.61      7.93\n"
     ]
    }
   ],
   "source": [
    "show_trajectory(\"log/nell/lmpgnn-complex1k-temp_0.05/output.log\", metrics=['mrr'])"
   ]
  },
  {
   "cell_type": "code",
   "execution_count": null,
   "metadata": {},
   "outputs": [],
   "source": []
  }
 ],
 "metadata": {
  "interpreter": {
   "hash": "aa9a177b884379cc9f512ba568eb8503d9eb899c926c853804c382785b4950bf"
  },
  "kernelspec": {
   "display_name": "Python 3 (ipykernel)",
   "language": "python",
   "name": "python3"
  },
  "language_info": {
   "codemirror_mode": {
    "name": "ipython",
    "version": 3
   },
   "file_extension": ".py",
   "mimetype": "text/x-python",
   "name": "python",
   "nbconvert_exporter": "python",
   "pygments_lexer": "ipython3",
   "version": "3.8.13"
  }
 },
 "nbformat": 4,
 "nbformat_minor": 4
}
